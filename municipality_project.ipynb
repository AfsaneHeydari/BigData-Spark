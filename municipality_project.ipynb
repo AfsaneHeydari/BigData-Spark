{
  "nbformat": 4,
  "nbformat_minor": 0,
  "metadata": {
    "colab": {
      "name": "municipality_project.ipynb",
      "provenance": [],
      "collapsed_sections": [],
      "authorship_tag": "ABX9TyMqU5ADYihUTSI84Xo5OHDU",
      "include_colab_link": true
    },
    "kernelspec": {
      "display_name": "Python 3",
      "name": "python3"
    }
  },
  "cells": [
    {
      "cell_type": "markdown",
      "metadata": {
        "id": "view-in-github",
        "colab_type": "text"
      },
      "source": [
        "<a href=\"https://colab.research.google.com/github/AfsaneHeydari/BigData-Spark/blob/main/municipality_project.ipynb\" target=\"_parent\"><img src=\"https://colab.research.google.com/assets/colab-badge.svg\" alt=\"Open In Colab\"/></a>"
      ]
    },
    {
      "cell_type": "code",
      "metadata": {
        "colab": {
          "base_uri": "https://localhost:8080/"
        },
        "id": "EBp7t9iV1rT4",
        "outputId": "fe603c31-9308-4548-f20d-70c13497d098"
      },
      "source": [
        "# from google.colab import drive\r\n",
        "# drive.mount('/content/drive/')\r\n",
        "# !ls \"/content/drive/My Drive/bigData/data/\"\r\n",
        "# !unrar x \"/content/drive/My Drive/bigData/data/violationtraffic_csv.rar\" \"/content/drive/My Drive/bigData/\""
      ],
      "execution_count": null,
      "outputs": [
        {
          "output_type": "stream",
          "text": [
            "Drive already mounted at /content/drive/; to attempt to forcibly remount, call drive.mount(\"/content/drive/\", force_remount=True).\n",
            "CompanyID.csv  PlateAlphabet.csv  SystemID.csv\tviolationtraffic_csv.rar\n",
            "\n",
            "UNRAR 5.50 freeware      Copyright (c) 1993-2017 Alexander Roshal\n",
            "\n",
            "\n",
            "Extracting from /content/drive/My Drive/bigData/data/violationtraffic_csv.rar\n",
            "\n",
            "\n",
            "Would you like to replace the existing file /content/drive/My Drive/bigData/violationtraffic.csv\n",
            "5269936234 bytes, modified on 2020-11-02 15:52\n",
            "with a new one\n",
            "5269936234 bytes, modified on 2020-11-02 15:52\n",
            "\n",
            "[Y]es, [N]o, [A]ll, n[E]ver, [R]ename, [Q]uit \n",
            "User break\n",
            "\n",
            "User break\n"
          ],
          "name": "stdout"
        }
      ]
    },
    {
      "cell_type": "code",
      "metadata": {
        "colab": {
          "base_uri": "https://localhost:8080/"
        },
        "id": "080d7AASRQwX",
        "outputId": "bf22ece1-38dc-455d-8303-01026aefaaac"
      },
      "source": [
        "!pip install pyspark\r\n",
        "!pip install -U -q PyDrive\r\n",
        "!apt install openjdk-8-jdk-headless -qq\r\n",
        "!pip install -U pandas-profiling\r\n",
        "import os\r\n",
        "os.environ[\"JAVA_HOME\"] = \"/usr/lib/jvm/java-8-openjdk-amd64\"\r\n"
      ],
      "execution_count": null,
      "outputs": [
        {
          "output_type": "stream",
          "text": [
            "Collecting pyspark\n",
            "\u001b[?25l  Downloading https://files.pythonhosted.org/packages/f0/26/198fc8c0b98580f617cb03cb298c6056587b8f0447e20fa40c5b634ced77/pyspark-3.0.1.tar.gz (204.2MB)\n",
            "\u001b[K     |████████████████████████████████| 204.2MB 63kB/s \n",
            "\u001b[?25hCollecting py4j==0.10.9\n",
            "\u001b[?25l  Downloading https://files.pythonhosted.org/packages/9e/b6/6a4fb90cd235dc8e265a6a2067f2a2c99f0d91787f06aca4bcf7c23f3f80/py4j-0.10.9-py2.py3-none-any.whl (198kB)\n",
            "\u001b[K     |████████████████████████████████| 204kB 50.1MB/s \n",
            "\u001b[?25hBuilding wheels for collected packages: pyspark\n",
            "  Building wheel for pyspark (setup.py) ... \u001b[?25l\u001b[?25hdone\n",
            "  Created wheel for pyspark: filename=pyspark-3.0.1-py2.py3-none-any.whl size=204612242 sha256=fe3079573363a7dd77c49f57b937a5d6584eb2b73ee9c942cc280e504dfb8b69\n",
            "  Stored in directory: /root/.cache/pip/wheels/5e/bd/07/031766ca628adec8435bb40f0bd83bb676ce65ff4007f8e73f\n",
            "Successfully built pyspark\n",
            "Installing collected packages: py4j, pyspark\n",
            "Successfully installed py4j-0.10.9 pyspark-3.0.1\n",
            "The following additional packages will be installed:\n",
            "  openjdk-8-jre-headless\n",
            "Suggested packages:\n",
            "  openjdk-8-demo openjdk-8-source libnss-mdns fonts-dejavu-extra\n",
            "  fonts-ipafont-gothic fonts-ipafont-mincho fonts-wqy-microhei\n",
            "  fonts-wqy-zenhei fonts-indic\n",
            "The following NEW packages will be installed:\n",
            "  openjdk-8-jdk-headless openjdk-8-jre-headless\n",
            "0 upgraded, 2 newly installed, 0 to remove and 15 not upgraded.\n",
            "Need to get 36.5 MB of archives.\n",
            "After this operation, 143 MB of additional disk space will be used.\n",
            "Selecting previously unselected package openjdk-8-jre-headless:amd64.\n",
            "(Reading database ... 146442 files and directories currently installed.)\n",
            "Preparing to unpack .../openjdk-8-jre-headless_8u275-b01-0ubuntu1~18.04_amd64.deb ...\n",
            "Unpacking openjdk-8-jre-headless:amd64 (8u275-b01-0ubuntu1~18.04) ...\n",
            "Selecting previously unselected package openjdk-8-jdk-headless:amd64.\n",
            "Preparing to unpack .../openjdk-8-jdk-headless_8u275-b01-0ubuntu1~18.04_amd64.deb ...\n",
            "Unpacking openjdk-8-jdk-headless:amd64 (8u275-b01-0ubuntu1~18.04) ...\n",
            "Setting up openjdk-8-jre-headless:amd64 (8u275-b01-0ubuntu1~18.04) ...\n",
            "update-alternatives: using /usr/lib/jvm/java-8-openjdk-amd64/jre/bin/orbd to provide /usr/bin/orbd (orbd) in auto mode\n",
            "update-alternatives: using /usr/lib/jvm/java-8-openjdk-amd64/jre/bin/servertool to provide /usr/bin/servertool (servertool) in auto mode\n",
            "update-alternatives: using /usr/lib/jvm/java-8-openjdk-amd64/jre/bin/tnameserv to provide /usr/bin/tnameserv (tnameserv) in auto mode\n",
            "Setting up openjdk-8-jdk-headless:amd64 (8u275-b01-0ubuntu1~18.04) ...\n",
            "update-alternatives: using /usr/lib/jvm/java-8-openjdk-amd64/bin/idlj to provide /usr/bin/idlj (idlj) in auto mode\n",
            "update-alternatives: using /usr/lib/jvm/java-8-openjdk-amd64/bin/wsimport to provide /usr/bin/wsimport (wsimport) in auto mode\n",
            "update-alternatives: using /usr/lib/jvm/java-8-openjdk-amd64/bin/jsadebugd to provide /usr/bin/jsadebugd (jsadebugd) in auto mode\n",
            "update-alternatives: using /usr/lib/jvm/java-8-openjdk-amd64/bin/native2ascii to provide /usr/bin/native2ascii (native2ascii) in auto mode\n",
            "update-alternatives: using /usr/lib/jvm/java-8-openjdk-amd64/bin/javah to provide /usr/bin/javah (javah) in auto mode\n",
            "update-alternatives: using /usr/lib/jvm/java-8-openjdk-amd64/bin/clhsdb to provide /usr/bin/clhsdb (clhsdb) in auto mode\n",
            "update-alternatives: using /usr/lib/jvm/java-8-openjdk-amd64/bin/xjc to provide /usr/bin/xjc (xjc) in auto mode\n",
            "update-alternatives: using /usr/lib/jvm/java-8-openjdk-amd64/bin/hsdb to provide /usr/bin/hsdb (hsdb) in auto mode\n",
            "update-alternatives: using /usr/lib/jvm/java-8-openjdk-amd64/bin/schemagen to provide /usr/bin/schemagen (schemagen) in auto mode\n",
            "update-alternatives: using /usr/lib/jvm/java-8-openjdk-amd64/bin/extcheck to provide /usr/bin/extcheck (extcheck) in auto mode\n",
            "update-alternatives: using /usr/lib/jvm/java-8-openjdk-amd64/bin/jhat to provide /usr/bin/jhat (jhat) in auto mode\n",
            "update-alternatives: using /usr/lib/jvm/java-8-openjdk-amd64/bin/wsgen to provide /usr/bin/wsgen (wsgen) in auto mode\n",
            "Collecting pandas-profiling\n",
            "\u001b[?25l  Downloading https://files.pythonhosted.org/packages/5e/3e/9822b0117a8e326a1831b5a866f8564c7d5787419c07db98b1f8856a983b/pandas_profiling-2.10.1-py2.py3-none-any.whl (240kB)\n",
            "\u001b[K     |████████████████████████████████| 245kB 8.3MB/s \n",
            "\u001b[?25hCollecting tqdm>=4.48.2\n",
            "\u001b[?25l  Downloading https://files.pythonhosted.org/packages/51/c1/2b9a2bf4b47481777c79bf6daad23a621ffc81e15fb0edf23b8ce42e0d61/tqdm-4.56.1-py2.py3-none-any.whl (72kB)\n",
            "\u001b[K     |████████████████████████████████| 81kB 7.4MB/s \n",
            "\u001b[?25hRequirement already satisfied, skipping upgrade: attrs>=19.3.0 in /usr/local/lib/python3.6/dist-packages (from pandas-profiling) (20.3.0)\n",
            "Requirement already satisfied, skipping upgrade: missingno>=0.4.2 in /usr/local/lib/python3.6/dist-packages (from pandas-profiling) (0.4.2)\n",
            "Collecting requests>=2.24.0\n",
            "\u001b[?25l  Downloading https://files.pythonhosted.org/packages/29/c1/24814557f1d22c56d50280771a17307e6bf87b70727d975fd6b2ce6b014a/requests-2.25.1-py2.py3-none-any.whl (61kB)\n",
            "\u001b[K     |████████████████████████████████| 61kB 6.4MB/s \n",
            "\u001b[?25hRequirement already satisfied, skipping upgrade: seaborn>=0.10.1 in /usr/local/lib/python3.6/dist-packages (from pandas-profiling) (0.11.1)\n",
            "Requirement already satisfied, skipping upgrade: jinja2>=2.11.1 in /usr/local/lib/python3.6/dist-packages (from pandas-profiling) (2.11.3)\n",
            "Requirement already satisfied, skipping upgrade: scipy>=1.4.1 in /usr/local/lib/python3.6/dist-packages (from pandas-profiling) (1.4.1)\n",
            "Requirement already satisfied, skipping upgrade: ipywidgets>=7.5.1 in /usr/local/lib/python3.6/dist-packages (from pandas-profiling) (7.6.3)\n",
            "Requirement already satisfied, skipping upgrade: joblib in /usr/local/lib/python3.6/dist-packages (from pandas-profiling) (1.0.0)\n",
            "Collecting visions[type_image_path]==0.6.0\n",
            "\u001b[?25l  Downloading https://files.pythonhosted.org/packages/98/30/b1e70bc55962239c4c3c9660e892be2d8247a882135a3035c10ff7f02cde/visions-0.6.0-py3-none-any.whl (75kB)\n",
            "\u001b[K     |████████████████████████████████| 81kB 7.3MB/s \n",
            "\u001b[?25hCollecting htmlmin>=0.1.12\n",
            "  Downloading https://files.pythonhosted.org/packages/b3/e7/fcd59e12169de19f0131ff2812077f964c6b960e7c09804d30a7bf2ab461/htmlmin-0.1.12.tar.gz\n",
            "Requirement already satisfied, skipping upgrade: pandas!=1.0.0,!=1.0.1,!=1.0.2,!=1.1.0,>=0.25.3 in /usr/local/lib/python3.6/dist-packages (from pandas-profiling) (1.1.5)\n",
            "Requirement already satisfied, skipping upgrade: matplotlib>=3.2.0 in /usr/local/lib/python3.6/dist-packages (from pandas-profiling) (3.2.2)\n",
            "Collecting tangled-up-in-unicode>=0.0.6\n",
            "\u001b[?25l  Downloading https://files.pythonhosted.org/packages/4a/e2/e588ab9298d4989ce7fdb2b97d18aac878d99dbdc379a4476a09d9271b68/tangled_up_in_unicode-0.0.6-py3-none-any.whl (3.1MB)\n",
            "\u001b[K     |████████████████████████████████| 3.1MB 8.2MB/s \n",
            "\u001b[?25hRequirement already satisfied, skipping upgrade: numpy>=1.16.0 in /usr/local/lib/python3.6/dist-packages (from pandas-profiling) (1.19.5)\n",
            "Collecting phik>=0.10.0\n",
            "\u001b[?25l  Downloading https://files.pythonhosted.org/packages/d9/27/d4197ed93c26d9eeedb7c73c0f24462a65c617807c3140e012950c35ccf9/phik-0.11.0.tar.gz (594kB)\n",
            "\u001b[K     |████████████████████████████████| 604kB 39.3MB/s \n",
            "\u001b[?25hCollecting confuse>=1.0.0\n",
            "  Downloading https://files.pythonhosted.org/packages/6d/55/b4726d81e5d6509fa3441f770f8a9524612627dc1b2a7d6209d1d20083fe/confuse-1.4.0-py2.py3-none-any.whl\n",
            "Requirement already satisfied, skipping upgrade: chardet<5,>=3.0.2 in /usr/local/lib/python3.6/dist-packages (from requests>=2.24.0->pandas-profiling) (3.0.4)\n",
            "Requirement already satisfied, skipping upgrade: idna<3,>=2.5 in /usr/local/lib/python3.6/dist-packages (from requests>=2.24.0->pandas-profiling) (2.10)\n",
            "Requirement already satisfied, skipping upgrade: urllib3<1.27,>=1.21.1 in /usr/local/lib/python3.6/dist-packages (from requests>=2.24.0->pandas-profiling) (1.24.3)\n",
            "Requirement already satisfied, skipping upgrade: certifi>=2017.4.17 in /usr/local/lib/python3.6/dist-packages (from requests>=2.24.0->pandas-profiling) (2020.12.5)\n",
            "Requirement already satisfied, skipping upgrade: MarkupSafe>=0.23 in /usr/local/lib/python3.6/dist-packages (from jinja2>=2.11.1->pandas-profiling) (1.1.1)\n",
            "Requirement already satisfied, skipping upgrade: traitlets>=4.3.1 in /usr/local/lib/python3.6/dist-packages (from ipywidgets>=7.5.1->pandas-profiling) (4.3.3)\n",
            "Requirement already satisfied, skipping upgrade: jupyterlab-widgets>=1.0.0; python_version >= \"3.6\" in /usr/local/lib/python3.6/dist-packages (from ipywidgets>=7.5.1->pandas-profiling) (1.0.0)\n",
            "Requirement already satisfied, skipping upgrade: ipython>=4.0.0; python_version >= \"3.3\" in /usr/local/lib/python3.6/dist-packages (from ipywidgets>=7.5.1->pandas-profiling) (5.5.0)\n",
            "Requirement already satisfied, skipping upgrade: nbformat>=4.2.0 in /usr/local/lib/python3.6/dist-packages (from ipywidgets>=7.5.1->pandas-profiling) (5.1.2)\n",
            "Requirement already satisfied, skipping upgrade: ipykernel>=4.5.1 in /usr/local/lib/python3.6/dist-packages (from ipywidgets>=7.5.1->pandas-profiling) (4.10.1)\n",
            "Requirement already satisfied, skipping upgrade: widgetsnbextension~=3.5.0 in /usr/local/lib/python3.6/dist-packages (from ipywidgets>=7.5.1->pandas-profiling) (3.5.1)\n",
            "Requirement already satisfied, skipping upgrade: networkx>=2.4 in /usr/local/lib/python3.6/dist-packages (from visions[type_image_path]==0.6.0->pandas-profiling) (2.5)\n",
            "Collecting imagehash; extra == \"type_image_path\"\n",
            "\u001b[?25l  Downloading https://files.pythonhosted.org/packages/8e/18/9dbb772b5ef73a3069c66bb5bf29b9fb4dd57af0d5790c781c3f559bcca6/ImageHash-4.2.0-py2.py3-none-any.whl (295kB)\n",
            "\u001b[K     |████████████████████████████████| 296kB 49.3MB/s \n",
            "\u001b[?25hRequirement already satisfied, skipping upgrade: Pillow; extra == \"type_image_path\" in /usr/local/lib/python3.6/dist-packages (from visions[type_image_path]==0.6.0->pandas-profiling) (7.0.0)\n",
            "Requirement already satisfied, skipping upgrade: pytz>=2017.2 in /usr/local/lib/python3.6/dist-packages (from pandas!=1.0.0,!=1.0.1,!=1.0.2,!=1.1.0,>=0.25.3->pandas-profiling) (2018.9)\n",
            "Requirement already satisfied, skipping upgrade: python-dateutil>=2.7.3 in /usr/local/lib/python3.6/dist-packages (from pandas!=1.0.0,!=1.0.1,!=1.0.2,!=1.1.0,>=0.25.3->pandas-profiling) (2.8.1)\n",
            "Requirement already satisfied, skipping upgrade: cycler>=0.10 in /usr/local/lib/python3.6/dist-packages (from matplotlib>=3.2.0->pandas-profiling) (0.10.0)\n",
            "Requirement already satisfied, skipping upgrade: pyparsing!=2.0.4,!=2.1.2,!=2.1.6,>=2.0.1 in /usr/local/lib/python3.6/dist-packages (from matplotlib>=3.2.0->pandas-profiling) (2.4.7)\n",
            "Requirement already satisfied, skipping upgrade: kiwisolver>=1.0.1 in /usr/local/lib/python3.6/dist-packages (from matplotlib>=3.2.0->pandas-profiling) (1.3.1)\n",
            "Requirement already satisfied, skipping upgrade: numba>=0.38.1 in /usr/local/lib/python3.6/dist-packages (from phik>=0.10.0->pandas-profiling) (0.51.2)\n",
            "Requirement already satisfied, skipping upgrade: pyyaml in /usr/local/lib/python3.6/dist-packages (from confuse>=1.0.0->pandas-profiling) (3.13)\n",
            "Requirement already satisfied, skipping upgrade: decorator in /usr/local/lib/python3.6/dist-packages (from traitlets>=4.3.1->ipywidgets>=7.5.1->pandas-profiling) (4.4.2)\n",
            "Requirement already satisfied, skipping upgrade: ipython-genutils in /usr/local/lib/python3.6/dist-packages (from traitlets>=4.3.1->ipywidgets>=7.5.1->pandas-profiling) (0.2.0)\n",
            "Requirement already satisfied, skipping upgrade: six in /usr/local/lib/python3.6/dist-packages (from traitlets>=4.3.1->ipywidgets>=7.5.1->pandas-profiling) (1.15.0)\n",
            "Requirement already satisfied, skipping upgrade: pygments in /usr/local/lib/python3.6/dist-packages (from ipython>=4.0.0; python_version >= \"3.3\"->ipywidgets>=7.5.1->pandas-profiling) (2.6.1)\n",
            "Requirement already satisfied, skipping upgrade: prompt-toolkit<2.0.0,>=1.0.4 in /usr/local/lib/python3.6/dist-packages (from ipython>=4.0.0; python_version >= \"3.3\"->ipywidgets>=7.5.1->pandas-profiling) (1.0.18)\n",
            "Requirement already satisfied, skipping upgrade: simplegeneric>0.8 in /usr/local/lib/python3.6/dist-packages (from ipython>=4.0.0; python_version >= \"3.3\"->ipywidgets>=7.5.1->pandas-profiling) (0.8.1)\n",
            "Requirement already satisfied, skipping upgrade: pexpect; sys_platform != \"win32\" in /usr/local/lib/python3.6/dist-packages (from ipython>=4.0.0; python_version >= \"3.3\"->ipywidgets>=7.5.1->pandas-profiling) (4.8.0)\n",
            "Requirement already satisfied, skipping upgrade: setuptools>=18.5 in /usr/local/lib/python3.6/dist-packages (from ipython>=4.0.0; python_version >= \"3.3\"->ipywidgets>=7.5.1->pandas-profiling) (53.0.0)\n",
            "Requirement already satisfied, skipping upgrade: pickleshare in /usr/local/lib/python3.6/dist-packages (from ipython>=4.0.0; python_version >= \"3.3\"->ipywidgets>=7.5.1->pandas-profiling) (0.7.5)\n",
            "Requirement already satisfied, skipping upgrade: jsonschema!=2.5.0,>=2.4 in /usr/local/lib/python3.6/dist-packages (from nbformat>=4.2.0->ipywidgets>=7.5.1->pandas-profiling) (2.6.0)\n",
            "Requirement already satisfied, skipping upgrade: jupyter-core in /usr/local/lib/python3.6/dist-packages (from nbformat>=4.2.0->ipywidgets>=7.5.1->pandas-profiling) (4.7.1)\n",
            "Requirement already satisfied, skipping upgrade: tornado>=4.0 in /usr/local/lib/python3.6/dist-packages (from ipykernel>=4.5.1->ipywidgets>=7.5.1->pandas-profiling) (5.1.1)\n",
            "Requirement already satisfied, skipping upgrade: jupyter-client in /usr/local/lib/python3.6/dist-packages (from ipykernel>=4.5.1->ipywidgets>=7.5.1->pandas-profiling) (5.3.5)\n",
            "Requirement already satisfied, skipping upgrade: notebook>=4.4.1 in /usr/local/lib/python3.6/dist-packages (from widgetsnbextension~=3.5.0->ipywidgets>=7.5.1->pandas-profiling) (5.3.1)\n",
            "Requirement already satisfied, skipping upgrade: PyWavelets in /usr/local/lib/python3.6/dist-packages (from imagehash; extra == \"type_image_path\"->visions[type_image_path]==0.6.0->pandas-profiling) (1.1.1)\n",
            "Requirement already satisfied, skipping upgrade: llvmlite<0.35,>=0.34.0.dev0 in /usr/local/lib/python3.6/dist-packages (from numba>=0.38.1->phik>=0.10.0->pandas-profiling) (0.34.0)\n",
            "Requirement already satisfied, skipping upgrade: wcwidth in /usr/local/lib/python3.6/dist-packages (from prompt-toolkit<2.0.0,>=1.0.4->ipython>=4.0.0; python_version >= \"3.3\"->ipywidgets>=7.5.1->pandas-profiling) (0.2.5)\n",
            "Requirement already satisfied, skipping upgrade: ptyprocess>=0.5 in /usr/local/lib/python3.6/dist-packages (from pexpect; sys_platform != \"win32\"->ipython>=4.0.0; python_version >= \"3.3\"->ipywidgets>=7.5.1->pandas-profiling) (0.7.0)\n",
            "Requirement already satisfied, skipping upgrade: pyzmq>=13 in /usr/local/lib/python3.6/dist-packages (from jupyter-client->ipykernel>=4.5.1->ipywidgets>=7.5.1->pandas-profiling) (22.0.2)\n",
            "Requirement already satisfied, skipping upgrade: terminado>=0.8.1 in /usr/local/lib/python3.6/dist-packages (from notebook>=4.4.1->widgetsnbextension~=3.5.0->ipywidgets>=7.5.1->pandas-profiling) (0.9.2)\n",
            "Requirement already satisfied, skipping upgrade: Send2Trash in /usr/local/lib/python3.6/dist-packages (from notebook>=4.4.1->widgetsnbextension~=3.5.0->ipywidgets>=7.5.1->pandas-profiling) (1.5.0)\n",
            "Requirement already satisfied, skipping upgrade: nbconvert in /usr/local/lib/python3.6/dist-packages (from notebook>=4.4.1->widgetsnbextension~=3.5.0->ipywidgets>=7.5.1->pandas-profiling) (5.6.1)\n",
            "Requirement already satisfied, skipping upgrade: bleach in /usr/local/lib/python3.6/dist-packages (from nbconvert->notebook>=4.4.1->widgetsnbextension~=3.5.0->ipywidgets>=7.5.1->pandas-profiling) (3.3.0)\n",
            "Requirement already satisfied, skipping upgrade: mistune<2,>=0.8.1 in /usr/local/lib/python3.6/dist-packages (from nbconvert->notebook>=4.4.1->widgetsnbextension~=3.5.0->ipywidgets>=7.5.1->pandas-profiling) (0.8.4)\n",
            "Requirement already satisfied, skipping upgrade: defusedxml in /usr/local/lib/python3.6/dist-packages (from nbconvert->notebook>=4.4.1->widgetsnbextension~=3.5.0->ipywidgets>=7.5.1->pandas-profiling) (0.6.0)\n",
            "Requirement already satisfied, skipping upgrade: testpath in /usr/local/lib/python3.6/dist-packages (from nbconvert->notebook>=4.4.1->widgetsnbextension~=3.5.0->ipywidgets>=7.5.1->pandas-profiling) (0.4.4)\n",
            "Requirement already satisfied, skipping upgrade: pandocfilters>=1.4.1 in /usr/local/lib/python3.6/dist-packages (from nbconvert->notebook>=4.4.1->widgetsnbextension~=3.5.0->ipywidgets>=7.5.1->pandas-profiling) (1.4.3)\n",
            "Requirement already satisfied, skipping upgrade: entrypoints>=0.2.2 in /usr/local/lib/python3.6/dist-packages (from nbconvert->notebook>=4.4.1->widgetsnbextension~=3.5.0->ipywidgets>=7.5.1->pandas-profiling) (0.3)\n",
            "Requirement already satisfied, skipping upgrade: packaging in /usr/local/lib/python3.6/dist-packages (from bleach->nbconvert->notebook>=4.4.1->widgetsnbextension~=3.5.0->ipywidgets>=7.5.1->pandas-profiling) (20.9)\n",
            "Requirement already satisfied, skipping upgrade: webencodings in /usr/local/lib/python3.6/dist-packages (from bleach->nbconvert->notebook>=4.4.1->widgetsnbextension~=3.5.0->ipywidgets>=7.5.1->pandas-profiling) (0.5.1)\n",
            "Building wheels for collected packages: htmlmin, phik\n",
            "  Building wheel for htmlmin (setup.py) ... \u001b[?25l\u001b[?25hdone\n",
            "  Created wheel for htmlmin: filename=htmlmin-0.1.12-cp36-none-any.whl size=27085 sha256=fad284455a050f237dd74869d22a6cbb2827e342ae034b6c15c89c57a0bb38ea\n",
            "  Stored in directory: /root/.cache/pip/wheels/43/07/ac/7c5a9d708d65247ac1f94066cf1db075540b85716c30255459\n",
            "  Building wheel for phik (setup.py) ... \u001b[?25l\u001b[?25hdone\n",
            "  Created wheel for phik: filename=phik-0.11.0-cp36-none-any.whl size=599738 sha256=0d71ff8b203dc4ba5ac2b8e324a1738426241f148c5bd4c5594c19f24e330915\n",
            "  Stored in directory: /root/.cache/pip/wheels/af/54/11/aba77f21075918de02f7964eabfe8c10d5542df9e6ad10b225\n",
            "Successfully built htmlmin phik\n",
            "\u001b[31mERROR: google-colab 1.0.0 has requirement requests~=2.23.0, but you'll have requests 2.25.1 which is incompatible.\u001b[0m\n",
            "\u001b[31mERROR: datascience 0.10.6 has requirement folium==0.2.1, but you'll have folium 0.8.3 which is incompatible.\u001b[0m\n",
            "Installing collected packages: tqdm, requests, tangled-up-in-unicode, imagehash, visions, htmlmin, phik, confuse, pandas-profiling\n",
            "  Found existing installation: tqdm 4.41.1\n",
            "    Uninstalling tqdm-4.41.1:\n",
            "      Successfully uninstalled tqdm-4.41.1\n",
            "  Found existing installation: requests 2.23.0\n",
            "    Uninstalling requests-2.23.0:\n",
            "      Successfully uninstalled requests-2.23.0\n",
            "  Found existing installation: pandas-profiling 1.4.1\n",
            "    Uninstalling pandas-profiling-1.4.1:\n",
            "      Successfully uninstalled pandas-profiling-1.4.1\n",
            "Successfully installed confuse-1.4.0 htmlmin-0.1.12 imagehash-4.2.0 pandas-profiling-2.10.1 phik-0.11.0 requests-2.25.1 tangled-up-in-unicode-0.0.6 tqdm-4.56.1 visions-0.6.0\n"
          ],
          "name": "stdout"
        }
      ]
    },
    {
      "cell_type": "code",
      "metadata": {
        "colab": {
          "base_uri": "https://localhost:8080/"
        },
        "id": "SCzzvEsheQml",
        "outputId": "81bac6ad-b6e5-4332-e9e9-ab47f8839235"
      },
      "source": [
        "from google.colab import drive\r\n",
        "drive.mount('/content/drive/')"
      ],
      "execution_count": null,
      "outputs": [
        {
          "output_type": "stream",
          "text": [
            "Mounted at /content/drive/\n"
          ],
          "name": "stdout"
        }
      ]
    },
    {
      "cell_type": "code",
      "metadata": {
        "id": "kNsRXMIYe644"
      },
      "source": [
        "from pyspark.sql import SparkSession\r\n",
        "\r\n",
        "spark = (SparkSession\r\n",
        " .builder\r\n",
        " .appName(\"AfsanehHeydariProject\")\r\n",
        " .getOrCreate())\r\n",
        "\r\n",
        "data = spark.read.csv(\"/content/drive/My Drive/bigData/violationtraffic.csv\", header=True)"
      ],
      "execution_count": null,
      "outputs": []
    },
    {
      "cell_type": "code",
      "metadata": {
        "colab": {
          "base_uri": "https://localhost:8080/"
        },
        "id": "XoEcRK9U0xTq",
        "outputId": "52cddb03-b934-48df-ee07-ad395372382d"
      },
      "source": [
        "data.show(20)"
      ],
      "execution_count": null,
      "outputs": [
        {
          "output_type": "stream",
          "text": [
            "+--------------------+---------+-----------------+--------+--------+----------+---------+--------+\n",
            "|        PassDatetime|CompanyId|MasterPlateNumber|DeviceId|SystemId|ImageScore|CrimeCode|CarSpeed|\n",
            "+--------------------+---------+-----------------+--------+--------+----------+---------+--------+\n",
            "|2020-04-23 18:23:...|      312|        362928811|   13182|     286|         0|      100|       0|\n",
            "|2020-04-23 18:25:...|      312|        992721872|   13182|     286|         0|      100|       0|\n",
            "|2020-04-23 18:28:...|      312|        521013866|   13182|     286|         0|      100|       0|\n",
            "|2020-04-23 18:28:...|      312|        223287133|   13182|     286|         0|      100|       0|\n",
            "|2020-04-23 18:30:...|      312|        332418610|   13182|     286|         0|      100|       0|\n",
            "|2020-04-23 18:34:...|      312|        980255277|   13182|     286|         0|      100|       0|\n",
            "|2020-04-23 18:42:...|      312|        290624317|   13182|     286|         0|      100|       0|\n",
            "|2020-04-23 18:44:...|      312|        222959510|   13182|     286|         0|      100|       0|\n",
            "|2020-04-23 18:50:...|      312|        423259944|   13182|     286|         0|      100|       0|\n",
            "|2020-04-23 19:00:...|      312|        351512622|   13182|     286|         0|      100|       0|\n",
            "|2020-04-23 19:02:...|      312|        433133910|   13182|     286|         0|      100|       0|\n",
            "|2020-04-23 19:06:...|      312|        290443620|   13182|     286|         0|      100|       0|\n",
            "|2020-04-23 20:04:...|      312|        831785319|   13182|     286|         0|      100|       0|\n",
            "|2020-04-23 20:08:...|      312|        183285753|   13182|     286|         0|      100|       0|\n",
            "|2020-04-23 20:25:...|      312|        612867911|   13182|     286|         0|      100|       0|\n",
            "|2020-04-23 20:27:...|      312|        882962541|   13182|     286|         0|      100|       0|\n",
            "|2020-04-23 20:31:...|      312|        931957255|   13182|     286|         0|      100|       0|\n",
            "|2020-04-23 20:32:...|      312|        320617611|   13182|     286|         0|      100|       0|\n",
            "|2020-04-23 20:36:...|      312|        181772877|   13182|     286|         0|      100|       0|\n",
            "|2020-04-23 20:37:...|      312|        942721710|   13182|     286|         0|      100|       0|\n",
            "+--------------------+---------+-----------------+--------+--------+----------+---------+--------+\n",
            "only showing top 20 rows\n",
            "\n"
          ],
          "name": "stdout"
        }
      ]
    },
    {
      "cell_type": "code",
      "metadata": {
        "colab": {
          "base_uri": "https://localhost:8080/"
        },
        "id": "7D8fIZrOfMGe",
        "outputId": "7072b9c2-569e-4b0c-d29a-67ec165562cc"
      },
      "source": [
        "data.printSchema()"
      ],
      "execution_count": null,
      "outputs": [
        {
          "output_type": "stream",
          "text": [
            "root\n",
            " |-- PassDatetime: string (nullable = true)\n",
            " |-- CompanyId: string (nullable = true)\n",
            " |-- MasterPlateNumber: string (nullable = true)\n",
            " |-- DeviceId: string (nullable = true)\n",
            " |-- SystemId: string (nullable = true)\n",
            " |-- ImageScore: string (nullable = true)\n",
            " |-- CrimeCode: string (nullable = true)\n",
            " |-- CarSpeed: string (nullable = true)\n",
            "\n"
          ],
          "name": "stdout"
        }
      ]
    },
    {
      "cell_type": "code",
      "metadata": {
        "colab": {
          "base_uri": "https://localhost:8080/",
          "height": 295
        },
        "id": "Rwccck4Imhal",
        "outputId": "8c00288d-80b1-4dd7-ea60-a9c79c4ce6f4"
      },
      "source": [
        "import matplotlib.pyplot as plt\r\n",
        "\r\n",
        "df = data.select(\"SystemId\").groupBy(\"SystemId\").agg(count(\"SystemId\")).toPandas()\r\n",
        "x = df['SystemId'].to_list()\r\n",
        "y = df['count(SystemId)'].to_list()\r\n",
        "plt.bar(x, y, color='b')\r\n",
        "plt.xlabel(\"SystemId\")\r\n",
        "plt.ylabel(\"count(SystemId)\")\r\n",
        "plt.title(\"camera sys activity\")\r\n",
        "plt.show()"
      ],
      "execution_count": null,
      "outputs": [
        {
          "output_type": "display_data",
          "data": {
            "image/png": "[encoded data removed]",
            "text/plain": [
              "<Figure size 432x288 with 1 Axes>"
            ]
          },
          "metadata": {
            "tags": []
          }
        }
      ]
    },
    {
      "cell_type": "code",
      "metadata": {
        "colab": {
          "base_uri": "https://localhost:8080/",
          "height": 344
        },
        "id": "wac2qPYhwMPb",
        "outputId": "311de259-fedb-42cc-ed5b-ba626c5244b9"
      },
      "source": [
        "from pyspark.sql.functions import count\r\n",
        "import matplotlib.pyplot as plt\r\n",
        "\r\n",
        "df2 = data.select(\"CrimeCode\").groupBy(\"CrimeCode\").agg(count(\"CrimeCode\")).toPandas()\r\n",
        "x = df2['CrimeCode'].to_list()\r\n",
        "y = df2['count(CrimeCode)'].to_list()\r\n",
        "\r\n",
        "fig = plt.figure(figsize=(60 * 0.45, 7))\r\n",
        "ax = fig.add_subplot(111)\r\n",
        "\r\n",
        "ax.bar(x, y, color='b')\r\n",
        "ax.set_xlabel(\"CrimeCode\")\r\n",
        "ax.set_ylabel(\"count(CrimeCode)\")\r\n",
        "ax.set_title(\"CrimeCode distribution\")\r\n",
        "# ax.set_xticklabels(rotation = (45), fontsize = 10, va='bottom', ha='left')\r\n",
        "fig.show()"
      ],
      "execution_count": null,
      "outputs": [
        {
          "output_type": "display_data",
          "data": {
            "image/png": "[encoded data removed]",
            "text/plain": [
              "<Figure size 1944x504 with 1 Axes>"
            ]
          },
          "metadata": {
            "tags": []
          }
        }
      ]
    },
    {
      "cell_type": "code",
      "metadata": {
        "colab": {
          "base_uri": "https://localhost:8080/"
        },
        "id": "822aAc3DgEL9",
        "outputId": "eb929605-9ff9-4234-8708-4bf0a8817dd6"
      },
      "source": [
        "from pyspark.sql.functions import col, count\r\n",
        "data.select(\"DeviceId\",\"MasterPlateNumber\").groupBy(\"MasterPlateNumber\").agg(count(\"DeviceId\")).sort(col(\"count(DeviceId)\").desc()).show()"
      ],
      "execution_count": null,
      "outputs": [
        {
          "output_type": "stream",
          "text": [
            "+-----------------+---------------+\n",
            "|MasterPlateNumber|count(DeviceId)|\n",
            "+-----------------+---------------+\n",
            "|        110411111|           5116|\n",
            "|        111911111|           2754|\n",
            "|        223085782|           2532|\n",
            "|        110111111|           2309|\n",
            "|        280249992|           1669|\n",
            "|        740416222|           1539|\n",
            "|        363165944|           1530|\n",
            "|        820464433|           1233|\n",
            "|        221033133|           1233|\n",
            "|        932424691|           1233|\n",
            "|        552486629|           1202|\n",
            "|        282744710|           1193|\n",
            "|        152794420|           1188|\n",
            "|        460435622|           1161|\n",
            "|        662977410|           1104|\n",
            "|        640413222|           1100|\n",
            "|        670478522|           1090|\n",
            "|        531586688|           1074|\n",
            "|        252778410|           1071|\n",
            "|        452833422|           1054|\n",
            "+-----------------+---------------+\n",
            "only showing top 20 rows\n",
            "\n"
          ],
          "name": "stdout"
        }
      ]
    },
    {
      "cell_type": "markdown",
      "metadata": {
        "id": "bG4rBWTLHV3o"
      },
      "source": [
        "above counts display number of times a vihicle is cought by a camera. I was thinking abought TF_IDF solution for feature extraction from these bag of camera_ids or eqivalently, locations which a particular car was present at."
      ]
    },
    {
      "cell_type": "code",
      "metadata": {
        "colab": {
          "base_uri": "https://localhost:8080/"
        },
        "id": "vOGzGI4oGKz9",
        "outputId": "d7ad6c6c-060f-491b-b85f-bfad4b910900"
      },
      "source": [
        "from pyspark.sql.functions import col, countDistinct\r\n",
        "data.agg(countDistinct(col(\"DeviceId\")).alias(\"count\")).show()"
      ],
      "execution_count": null,
      "outputs": [
        {
          "output_type": "stream",
          "text": [
            "+-----+\n",
            "|count|\n",
            "+-----+\n",
            "| 1259|\n",
            "+-----+\n",
            "\n"
          ],
          "name": "stdout"
        }
      ]
    },
    {
      "cell_type": "markdown",
      "metadata": {
        "id": "25z1gjyJHIBr"
      },
      "source": [
        "the above count shows number of unique cameras present in data\r\n"
      ]
    },
    {
      "cell_type": "code",
      "metadata": {
        "colab": {
          "base_uri": "https://localhost:8080/"
        },
        "id": "72I41YkFgiK8",
        "outputId": "7f67e712-8e6c-48aa-fb2b-29dba77eb06e"
      },
      "source": [
        "data.count()"
      ],
      "execution_count": null,
      "outputs": [
        {
          "output_type": "execute_result",
          "data": {
            "text/plain": [
              "89711774"
            ]
          },
          "metadata": {
            "tags": []
          },
          "execution_count": 5
        }
      ]
    },
    {
      "cell_type": "code",
      "metadata": {
        "colab": {
          "base_uri": "https://localhost:8080/"
        },
        "id": "DLizzhMafvSu",
        "outputId": "83cd42e6-603a-40b4-d070-c9a93a149488"
      },
      "source": [
        "from pyspark.sql.functions import col\r\n",
        "data.select(\"SystemId\") \\\r\n",
        "  .where(col(\"SystemId\") \\\r\n",
        "  .isNull()) \\\r\n",
        "  .count()"
      ],
      "execution_count": null,
      "outputs": [
        {
          "output_type": "execute_result",
          "data": {
            "text/plain": [
              "0"
            ]
          },
          "metadata": {
            "tags": []
          },
          "execution_count": 14
        }
      ]
    },
    {
      "cell_type": "code",
      "metadata": {
        "colab": {
          "base_uri": "https://localhost:8080/"
        },
        "id": "ysf6Id3ef2XY",
        "outputId": "abf88cbd-228b-4e5e-8523-ebd2b7ba5750"
      },
      "source": [
        "from pyspark.sql.functions import col\r\n",
        "data.select(\"CrimeCode\") \\\r\n",
        "  .where(col(\"CrimeCode\") \\\r\n",
        "  .isNull()) \\\r\n",
        "  .count()"
      ],
      "execution_count": null,
      "outputs": [
        {
          "output_type": "execute_result",
          "data": {
            "text/plain": [
              "0"
            ]
          },
          "metadata": {
            "tags": []
          },
          "execution_count": 15
        }
      ]
    },
    {
      "cell_type": "code",
      "metadata": {
        "colab": {
          "base_uri": "https://localhost:8080/"
        },
        "id": "elKOB4ZduBCl",
        "outputId": "f58b5671-ba57-4084-b254-3217ac1c0d80"
      },
      "source": [
        "from pyspark.sql.functions import col\r\n",
        "data.select(\"PassDatetime\") \\\r\n",
        "  .where(col(\"PassDatetime\") \\\r\n",
        "  .isNull()) \\\r\n",
        "  .count()"
      ],
      "execution_count": null,
      "outputs": [
        {
          "output_type": "execute_result",
          "data": {
            "text/plain": [
              "0"
            ]
          },
          "metadata": {
            "tags": []
          },
          "execution_count": 16
        }
      ]
    },
    {
      "cell_type": "code",
      "metadata": {
        "colab": {
          "base_uri": "https://localhost:8080/"
        },
        "id": "D8RAQZxrg7Qz",
        "outputId": "7e90f4f0-1a32-41ee-d5db-67748b7912de"
      },
      "source": [
        "from pyspark.sql.functions import lit, when, col\r\n",
        "from pyspark.sql.functions import udf, array\r\n",
        "from pyspark.sql.types import *\r\n",
        "\r\n",
        "determine_items_udf = udf(lambda arr: [arr[0].split(' ')[1].split(':')[0], arr[1], arr[2]], ArrayType(StringType()))\r\n",
        "\r\n",
        "df_freq = data.withColumn('items', determine_items_udf(array(\"PassDatetime\", \"DeviceId\", \"CrimeCode\")) )\r\n",
        "df_freq.show()"
      ],
      "execution_count": null,
      "outputs": [
        {
          "output_type": "stream",
          "text": [
            "+--------------------+---------+-----------------+--------+--------+----------+---------+--------+----------------+\n",
            "|        PassDatetime|CompanyId|MasterPlateNumber|DeviceId|SystemId|ImageScore|CrimeCode|CarSpeed|           items|\n",
            "+--------------------+---------+-----------------+--------+--------+----------+---------+--------+----------------+\n",
            "|2020-04-23 18:23:...|      312|        362928811|   13182|     286|         0|      100|       0|[18, 13182, 100]|\n",
            "|2020-04-23 18:25:...|      312|        992721872|   13182|     286|         0|      100|       0|[18, 13182, 100]|\n",
            "|2020-04-23 18:28:...|      312|        521013866|   13182|     286|         0|      100|       0|[18, 13182, 100]|\n",
            "|2020-04-23 18:28:...|      312|        223287133|   13182|     286|         0|      100|       0|[18, 13182, 100]|\n",
            "|2020-04-23 18:30:...|      312|        332418610|   13182|     286|         0|      100|       0|[18, 13182, 100]|\n",
            "|2020-04-23 18:34:...|      312|        980255277|   13182|     286|         0|      100|       0|[18, 13182, 100]|\n",
            "|2020-04-23 18:42:...|      312|        290624317|   13182|     286|         0|      100|       0|[18, 13182, 100]|\n",
            "|2020-04-23 18:44:...|      312|        222959510|   13182|     286|         0|      100|       0|[18, 13182, 100]|\n",
            "|2020-04-23 18:50:...|      312|        423259944|   13182|     286|         0|      100|       0|[18, 13182, 100]|\n",
            "|2020-04-23 19:00:...|      312|        351512622|   13182|     286|         0|      100|       0|[19, 13182, 100]|\n",
            "|2020-04-23 19:02:...|      312|        433133910|   13182|     286|         0|      100|       0|[19, 13182, 100]|\n",
            "|2020-04-23 19:06:...|      312|        290443620|   13182|     286|         0|      100|       0|[19, 13182, 100]|\n",
            "|2020-04-23 20:04:...|      312|        831785319|   13182|     286|         0|      100|       0|[20, 13182, 100]|\n",
            "|2020-04-23 20:08:...|      312|        183285753|   13182|     286|         0|      100|       0|[20, 13182, 100]|\n",
            "|2020-04-23 20:25:...|      312|        612867911|   13182|     286|         0|      100|       0|[20, 13182, 100]|\n",
            "|2020-04-23 20:27:...|      312|        882962541|   13182|     286|         0|      100|       0|[20, 13182, 100]|\n",
            "|2020-04-23 20:31:...|      312|        931957255|   13182|     286|         0|      100|       0|[20, 13182, 100]|\n",
            "|2020-04-23 20:32:...|      312|        320617611|   13182|     286|         0|      100|       0|[20, 13182, 100]|\n",
            "|2020-04-23 20:36:...|      312|        181772877|   13182|     286|         0|      100|       0|[20, 13182, 100]|\n",
            "|2020-04-23 20:37:...|      312|        942721710|   13182|     286|         0|      100|       0|[20, 13182, 100]|\n",
            "+--------------------+---------+-----------------+--------+--------+----------+---------+--------+----------------+\n",
            "only showing top 20 rows\n",
            "\n"
          ],
          "name": "stdout"
        }
      ]
    },
    {
      "cell_type": "code",
      "metadata": {
        "colab": {
          "base_uri": "https://localhost:8080/"
        },
        "id": "lTmcCoia-mQI",
        "outputId": "48aa9471-48ed-4437-972d-6196930035e0"
      },
      "source": [
        "rules = model.associationRules\r\n",
        "rules.filter(col(\"confidence\")!=1).sort(col(\"lift\").desc()).show(150)"
      ],
      "execution_count": null,
      "outputs": [
        {
          "output_type": "stream",
          "text": [
            "+----------+----------+-------------------+------------------+\n",
            "|antecedent|consequent|         confidence|              lift|\n",
            "+----------+----------+-------------------+------------------+\n",
            "|      [06]|    [2063]| 0.9452986179319067| 2.303387736837845|\n",
            "|      [21]|    [2063]| 0.9338300858332493|2.2754426243681243|\n",
            "|      [22]|    [2063]| 0.9253349678819965|  2.25474276282097|\n",
            "|      [23]|    [2063]| 0.9150264297729709|2.2296241814387154|\n",
            "|      [19]|    [2063]|  0.905891826410954|2.2073661002717513|\n",
            "|      [00]|    [2063]| 0.9058641358548507| 2.207298627320723|\n",
            "|      [18]|    [2063]| 0.9031633924473566|2.2007177870157015|\n",
            "|      [17]|    [2063]|  0.897833376054146|2.1877302567640173|\n",
            "|      [20]|    [2063]| 0.8959690185635779| 2.183187419083527|\n",
            "|      [09]|    [2126]| 0.5504923813808491|1.3646216540345986|\n",
            "|      [10]|    [2126]| 0.5433792264172638|1.3469887755059913|\n",
            "|      [11]|    [2126]| 0.5370706733903725| 1.331350433619175|\n",
            "|      [07]|    [2063]| 0.5460708558973768|1.3305984892587335|\n",
            "|      [12]|    [2126]| 0.5361424525868327|1.3290494568008246|\n",
            "|      [08]|    [2126]| 0.5204105962860334|1.2900515841828946|\n",
            "|      [13]|    [2126]| 0.5190466993924222|1.2866706050851935|\n",
            "|      [14]|    [2126]| 0.5114566875667738|1.2678556408059825|\n",
            "|      [15]|    [2126]| 0.5029468732808305| 1.246760568032619|\n",
            "|      [16]|    [2126]|0.40437333219353405| 1.002405526560153|\n",
            "|      [16]|    [2063]| 0.3964242035085742|0.9659578800030947|\n",
            "|      [07]|    [2126]|0.30636720100241965|0.7594570437563126|\n",
            "|      [15]|    [2063]| 0.2851954822535565|0.6949293736000335|\n",
            "|      [14]|    [2063]| 0.2739640505568378|0.6675619983107814|\n",
            "|      [08]|    [2063]| 0.2737467340199585|0.6670324680263144|\n",
            "|      [13]|    [2063]| 0.2657598633601919|0.6475710411455003|\n",
            "|      [11]|    [2063]| 0.2465748401859446| 0.600823329605215|\n",
            "|      [12]|    [2063]|0.24560274383897823|0.5984546444488505|\n",
            "|      [10]|    [2063]|0.23823614346338842|0.5805046161240012|\n",
            "|      [09]|    [2063]|0.23242498756878427|0.5663447041442627|\n",
            "+----------+----------+-------------------+------------------+\n",
            "\n"
          ],
          "name": "stdout"
        }
      ]
    },
    {
      "cell_type": "code",
      "metadata": {
        "colab": {
          "base_uri": "https://localhost:8080/"
        },
        "id": "SpFjH-6QvWOU",
        "outputId": "f3d8da52-49eb-4f21-e80b-c9efe26bc61a"
      },
      "source": [
        "from pyspark.ml.fpm import FPGrowth\r\n",
        "\r\n",
        "fpGrowth = FPGrowth(itemsCol=\"items\", minSupport=0.01, minConfidence=0.2)\r\n",
        "model = fpGrowth.fit(df_freq.select(\"items\"))\r\n",
        "\r\n",
        "# Display frequent itemsets.\r\n",
        "model.freqItemsets.show()\r\n",
        "# Display generated association rules.\r\n",
        "model.associationRules.show(40)"
      ],
      "execution_count": null,
      "outputs": [
        {
          "output_type": "stream",
          "text": [
            "+-------------+--------+\n",
            "|        items|    freq|\n",
            "+-------------+--------+\n",
            "|      [12886]|  947003|\n",
            "|[12886, 2126]|  947003|\n",
            "|       [2063]|36817256|\n",
            "|      [13655]|  919551|\n",
            "|[13655, 2063]|  919551|\n",
            "|       [2126]|36189993|\n",
            "|       [2082]|12460841|\n",
            "|      [13671]|  911414|\n",
            "|[13671, 2063]|  911414|\n",
            "|         [11]| 8727330|\n",
            "|   [11, 2082]| 1621602|\n",
            "|   [11, 2126]| 4687193|\n",
            "|   [11, 2063]| 2151940|\n",
            "|         [10]| 8619091|\n",
            "|   [10, 2082]| 1634525|\n",
            "|   [10, 2126]| 4683435|\n",
            "|   [10, 2063]| 2053379|\n",
            "|         [12]| 8513036|\n",
            "|   [12, 2082]| 1576837|\n",
            "|   [12, 2126]| 4564200|\n",
            "+-------------+--------+\n",
            "only showing top 20 rows\n",
            "\n",
            "+----------+----------+-------------------+------------------+\n",
            "|antecedent|consequent|         confidence|              lift|\n",
            "+----------+----------+-------------------+------------------+\n",
            "|    [2172]|   [12607]|                1.0| 52.04263687534553|\n",
            "|   [12611]|    [2063]|                1.0|2.4366773558572645|\n",
            "|    [1529]|    [2126]|                1.0|2.4789110625138835|\n",
            "|      [06]|    [2063]| 0.9452986179319067| 2.303387736837845|\n",
            "|   [13671]|    [2063]|                1.0|2.4366773558572645|\n",
            "|   [13624]|    [2063]|                1.0|2.4366773558572645|\n",
            "|    [1877]|    [2126]|                1.0|2.4789110625138835|\n",
            "|   [13655]|    [2063]|                1.0|2.4366773558572645|\n",
            "|   [13643]|    [2063]|                1.0|2.4366773558572645|\n",
            "|   [13664]|    [2063]|                1.0|2.4366773558572645|\n",
            "|   [12886]|    [2126]|                1.0|2.4789110625138835|\n",
            "|      [22]|    [2063]| 0.9253349678819965|  2.25474276282097|\n",
            "|   [13630]|    [2063]|                1.0|2.4366773558572645|\n",
            "|    [1970]|    [2126]|                1.0|2.4789110625138835|\n",
            "|      [20]|    [2063]| 0.8959690185635779| 2.183187419083527|\n",
            "|      [13]|    [2126]| 0.5190466993924222|1.2866706050851935|\n",
            "|      [13]|    [2063]| 0.2657598633601919|0.6475710411455003|\n",
            "|      [18]|    [2063]| 0.9031633924473566|2.2007177870157015|\n",
            "|      [19]|    [2063]|  0.905891826410954|2.2073661002717513|\n",
            "|      [10]|    [2126]| 0.5433792264172638|1.3469887755059913|\n",
            "|      [10]|    [2063]|0.23823614346338842|0.5805046161240012|\n",
            "|   [13666]|    [2063]|                1.0|2.4366773558572645|\n",
            "|      [08]|    [2126]| 0.5204105962860334|1.2900515841828946|\n",
            "|      [08]|    [2063]| 0.2737467340199585|0.6670324680263144|\n",
            "|      [15]|    [2126]| 0.5029468732808305| 1.246760568032619|\n",
            "|      [15]|    [2063]| 0.2851954822535565|0.6949293736000335|\n",
            "|      [09]|    [2126]| 0.5504923813808491|1.3646216540345986|\n",
            "|      [09]|    [2063]|0.23242498756878427|0.5663447041442627|\n",
            "|      [07]|    [2126]|0.30636720100241965|0.7594570437563126|\n",
            "|      [07]|    [2063]| 0.5460708558973768|1.3305984892587335|\n",
            "|      [12]|    [2126]| 0.5361424525868327|1.3290494568008246|\n",
            "|      [12]|    [2063]|0.24560274383897823|0.5984546444488505|\n",
            "|      [21]|    [2063]| 0.9338300858332493|2.2754426243681243|\n",
            "|      [11]|    [2126]| 0.5370706733903725| 1.331350433619175|\n",
            "|      [11]|    [2063]| 0.2465748401859446| 0.600823329605215|\n",
            "|   [13642]|    [2063]|                1.0|2.4366773558572645|\n",
            "|      [17]|    [2063]|  0.897833376054146|2.1877302567640173|\n",
            "|      [23]|    [2063]| 0.9150264297729709|2.2296241814387154|\n",
            "|   [13625]|    [2063]|                1.0|2.4366773558572645|\n",
            "|   [13668]|    [2063]|                1.0|2.4366773558572645|\n",
            "+----------+----------+-------------------+------------------+\n",
            "only showing top 40 rows\n",
            "\n"
          ],
          "name": "stdout"
        }
      ]
    },
    {
      "cell_type": "code",
      "metadata": {
        "colab": {
          "base_uri": "https://localhost:8080/"
        },
        "id": "cxB_r3C2clbh",
        "outputId": "53dc57bb-25ee-469e-fa68-2a72a471a86e"
      },
      "source": [
        "from pyspark.ml.fpm import FPGrowth\r\n",
        "from pyspark.sql.functions import desc, col\r\n",
        "\r\n",
        "fpGrowth = FPGrowth(itemsCol=\"items\", minSupport=0.01, minConfidence=0.2)\r\n",
        "model = fpGrowth.fit(df_freq.select(\"items\"))\r\n",
        "\r\n",
        "# Display frequent itemsets.\r\n",
        "model.freqItemsets.show()\r\n",
        "# Display generated association rules.\r\n",
        "model.associationRules.sort(col('lift').desc()).show()"
      ],
      "execution_count": null,
      "outputs": [
        {
          "output_type": "stream",
          "text": [
            "+-------------+--------+\n",
            "|        items|    freq|\n",
            "+-------------+--------+\n",
            "|      [12886]|  947003|\n",
            "|[12886, 2126]|  947003|\n",
            "|       [2063]|36817256|\n",
            "|      [13655]|  919551|\n",
            "|[13655, 2063]|  919551|\n",
            "|       [2126]|36189993|\n",
            "|       [2082]|12460841|\n",
            "|      [13671]|  911414|\n",
            "|[13671, 2063]|  911414|\n",
            "|         [11]| 8727330|\n",
            "|   [11, 2082]| 1621602|\n",
            "|   [11, 2126]| 4687193|\n",
            "|   [11, 2063]| 2151940|\n",
            "|         [10]| 8619091|\n",
            "|   [10, 2082]| 1634525|\n",
            "|   [10, 2126]| 4683435|\n",
            "|   [10, 2063]| 2053379|\n",
            "|         [12]| 8513036|\n",
            "|   [12, 2082]| 1576837|\n",
            "|   [12, 2126]| 4564200|\n",
            "+-------------+--------+\n",
            "only showing top 20 rows\n",
            "\n",
            "+----------+----------+------------------+------------------+\n",
            "|antecedent|consequent|        confidence|              lift|\n",
            "+----------+----------+------------------+------------------+\n",
            "|    [2172]|   [12607]|               1.0| 52.04263687534553|\n",
            "|   [12611]|    [2063]|               1.0|2.4366773558572645|\n",
            "|    [1529]|    [2126]|               1.0|2.4789110625138835|\n",
            "|      [06]|    [2063]|0.9452986179319067| 2.303387736837845|\n",
            "|   [13671]|    [2063]|               1.0|2.4366773558572645|\n",
            "|   [13624]|    [2063]|               1.0|2.4366773558572645|\n",
            "|    [1877]|    [2126]|               1.0|2.4789110625138835|\n",
            "|   [13655]|    [2063]|               1.0|2.4366773558572645|\n",
            "|   [13643]|    [2063]|               1.0|2.4366773558572645|\n",
            "|   [13664]|    [2063]|               1.0|2.4366773558572645|\n",
            "|   [12886]|    [2126]|               1.0|2.4789110625138835|\n",
            "|      [22]|    [2063]|0.9253349678819965|  2.25474276282097|\n",
            "|   [13630]|    [2063]|               1.0|2.4366773558572645|\n",
            "|    [1970]|    [2126]|               1.0|2.4789110625138835|\n",
            "|      [20]|    [2063]|0.8959690185635779| 2.183187419083527|\n",
            "|      [13]|    [2126]|0.5190466993924222|1.2866706050851935|\n",
            "|      [13]|    [2063]|0.2657598633601919|0.6475710411455003|\n",
            "|      [18]|    [2063]|0.9031633924473566|2.2007177870157015|\n",
            "|      [19]|    [2063]| 0.905891826410954|2.2073661002717513|\n",
            "|      [10]|    [2126]|0.5433792264172638|1.3469887755059913|\n",
            "+----------+----------+------------------+------------------+\n",
            "only showing top 20 rows\n",
            "\n"
          ],
          "name": "stdout"
        }
      ]
    },
    {
      "cell_type": "code",
      "metadata": {
        "colab": {
          "base_uri": "https://localhost:8080/"
        },
        "id": "7zF9hRIxgTQ-",
        "outputId": "13cc2bd8-6fa5-4523-e176-052dcd86975f"
      },
      "source": [
        "from pyspark.ml.fpm import FPGrowth\r\n",
        "\r\n",
        "fpGrowth = FPGrowth(itemsCol=\"items\", minSupport=0.05, minConfidence=0.2)\r\n",
        "model = fpGrowth.fit(df_freq.select(\"items\"))\r\n",
        "\r\n",
        "# Display frequent itemsets.\r\n",
        "model.freqItemsets.show()\r\n",
        "# Display generated association rules.\r\n",
        "model.associationRules.show()"
      ],
      "execution_count": null,
      "outputs": [
        {
          "output_type": "stream",
          "text": [
            "+----------+--------+\n",
            "|     items|    freq|\n",
            "+----------+--------+\n",
            "|    [2063]|36817256|\n",
            "|    [2126]|36189993|\n",
            "|    [2082]|12460841|\n",
            "|      [11]| 8727330|\n",
            "|[11, 2126]| 4687193|\n",
            "|      [10]| 8619091|\n",
            "|[10, 2126]| 4683435|\n",
            "|      [12]| 8513036|\n",
            "|[12, 2126]| 4564200|\n",
            "|      [09]| 8362014|\n",
            "|[09, 2126]| 4603225|\n",
            "|      [13]| 7363008|\n",
            "|      [14]| 7201558|\n",
            "|      [08]| 6991393|\n",
            "|      [15]| 6771075|\n",
            "|      [16]| 5147105|\n",
            "+----------+--------+\n",
            "\n",
            "+----------+----------+------------------+------------------+\n",
            "|antecedent|consequent|        confidence|              lift|\n",
            "+----------+----------+------------------+------------------+\n",
            "|      [10]|    [2126]|0.5433792264172638|1.3469887755059913|\n",
            "|      [09]|    [2126]|0.5504923813808491|1.3646216540345986|\n",
            "|      [12]|    [2126]|0.5361424525868327|1.3290494568008246|\n",
            "|      [11]|    [2126]|0.5370706733903725| 1.331350433619175|\n",
            "+----------+----------+------------------+------------------+\n",
            "\n"
          ],
          "name": "stdout"
        }
      ]
    },
    {
      "cell_type": "code",
      "metadata": {
        "colab": {
          "base_uri": "https://localhost:8080/"
        },
        "id": "7qhtfuuzSVDz",
        "outputId": "1b3bba3e-623b-4fbe-d4fb-467bfff74592"
      },
      "source": [
        "from pyspark.sql.functions import collect_set\r\n",
        "df2 = data.select('MasterPlateNumber', 'DeviceId').groupBy(\"MasterPlateNumber\").agg(collect_set(\"DeviceId\"))\r\n",
        "df2.show()"
      ],
      "execution_count": null,
      "outputs": [
        {
          "output_type": "stream",
          "text": [
            "+-----------------+---------------------+\n",
            "|MasterPlateNumber|collect_set(DeviceId)|\n",
            "+-----------------+---------------------+\n",
            "|         10887582|              [13882]|\n",
            "|        110111844|              [12914]|\n",
            "|        110113118|               [1699]|\n",
            "|        110114789|       [12774, 12914]|\n",
            "|        110118310|              [12764]|\n",
            "|        110118558|               [1703]|\n",
            "|        110121112|  [1734, 4499, 12620]|\n",
            "|        110121316|              [12776]|\n",
            "|        110121614|              [12607]|\n",
            "|        110125537|               [1947]|\n",
            "|        110128818|               [1655]|\n",
            "|        110131951|               [1671]|\n",
            "|        110139131|        [4509, 13548]|\n",
            "|        110142238|               [1671]|\n",
            "|        110142738|               [1935]|\n",
            "|        110148537|               [1937]|\n",
            "|        110148733| [1938, 1731, 1950...|\n",
            "|        110151141|               [1938]|\n",
            "|        110151168| [12612, 12782, 1944]|\n",
            "|        110152922|               [1969]|\n",
            "+-----------------+---------------------+\n",
            "only showing top 20 rows\n",
            "\n"
          ],
          "name": "stdout"
        }
      ]
    },
    {
      "cell_type": "code",
      "metadata": {
        "colab": {
          "base_uri": "https://localhost:8080/"
        },
        "id": "VCaGPb9J60bY",
        "outputId": "d0e8c555-32a5-4828-90bf-91cccb35274e"
      },
      "source": [
        "from pyspark.ml.feature import CountVectorizer\r\n",
        "DeviceIdVectorizer = CountVectorizer(inputCol=\"collect_set(DeviceId)\", outputCol=\"DeviceId_OneHotEncoded\", vocabSize=1259, minDF=1.0)\r\n",
        "DeviceIdVectorizer_model = DeviceIdVectorizer.fit(df2)\r\n",
        "df_ohe = DeviceIdVectorizer_model.transform(df2)\r\n",
        "df_ohe.show()"
      ],
      "execution_count": null,
      "outputs": [
        {
          "output_type": "stream",
          "text": [
            "+-----------------+---------------------+----------------------+\n",
            "|MasterPlateNumber|collect_set(DeviceId)|DeviceId_OneHotEncoded|\n",
            "+-----------------+---------------------+----------------------+\n",
            "|         10887582|              [13882]|    (1259,[517],[1.0])|\n",
            "|        110111844|              [12914]|     (1259,[33],[1.0])|\n",
            "|        110113118|               [1699]|    (1259,[266],[1.0])|\n",
            "|        110114789|       [12774, 12914]|  (1259,[33,320],[1...|\n",
            "|        110118310|              [12764]|    (1259,[309],[1.0])|\n",
            "|        110118558|               [1703]|    (1259,[158],[1.0])|\n",
            "|        110121112|  [1734, 4499, 12620]|  (1259,[147,220,27...|\n",
            "|        110121316|              [12776]|    (1259,[272],[1.0])|\n",
            "|        110121614|              [12607]|      (1259,[4],[1.0])|\n",
            "|        110125537|               [1947]|     (1259,[34],[1.0])|\n",
            "|        110128818|               [1655]|    (1259,[183],[1.0])|\n",
            "|        110131951|               [1671]|     (1259,[23],[1.0])|\n",
            "|        110139131|        [4509, 13548]|  (1259,[85,433],[1...|\n",
            "|        110142238|               [1671]|     (1259,[23],[1.0])|\n",
            "|        110142738|               [1935]|     (1259,[61],[1.0])|\n",
            "|        110148537|               [1937]|     (1259,[39],[1.0])|\n",
            "|        110148733| [1938, 1731, 1950...|  (1259,[4,8,10,14,...|\n",
            "|        110151141|               [1938]|    (1259,[134],[1.0])|\n",
            "|        110151168| [12612, 12782, 1944]|  (1259,[7,92,120],...|\n",
            "|        110152922|               [1969]|     (1259,[37],[1.0])|\n",
            "+-----------------+---------------------+----------------------+\n",
            "only showing top 20 rows\n",
            "\n"
          ],
          "name": "stdout"
        }
      ]
    },
    {
      "cell_type": "code",
      "metadata": {
        "id": "GGnfdyfWBha0"
      },
      "source": [
        "from pyspark.ml.feature import MinHashLSH\r\n",
        "\r\n",
        "mh = MinHashLSH(inputCol=\"DeviceId_OneHotEncoded\", outputCol=\"hashes\", numHashTables=2)\r\n",
        "model = mh.fit(df_ohe)\r\n",
        "df_hash = model.transform(df_ohe)\r\n"
      ],
      "execution_count": null,
      "outputs": []
    },
    {
      "cell_type": "code",
      "metadata": {
        "colab": {
          "base_uri": "https://localhost:8080/"
        },
        "id": "KFJldDkhDign",
        "outputId": "35d78c39-9b31-4840-8d28-4b5e9118de40"
      },
      "source": [
        "df_hash.show()"
      ],
      "execution_count": null,
      "outputs": [
        {
          "output_type": "stream",
          "text": [
            "+-----------------+---------------------+----------------------+--------------------+\n",
            "|MasterPlateNumber|collect_set(DeviceId)|DeviceId_OneHotEncoded|              hashes|\n",
            "+-----------------+---------------------+----------------------+--------------------+\n",
            "|         10887582|              [13882]|    (1259,[517],[1.0])|[[3.83989459E8], ...|\n",
            "|        110111844|              [12914]|     (1259,[33],[1.0])|[[1.337845495E9],...|\n",
            "|        110113118|               [1699]|    (1259,[266],[1.0])|[[1.164995549E9],...|\n",
            "|        110114789|       [12774, 12914]|  (1259,[33,320],[1...|[[1.337845495E9],...|\n",
            "|        110118310|              [12764]|    (1259,[309],[1.0])|[[8.4444184E8], [...|\n",
            "|        110118558|               [1703]|    (1259,[158],[1.0])|[[7.37782927E8], ...|\n",
            "|        110121112|  [1734, 4499, 12620]|  (1259,[147,220,27...|[[2.2679385E7], [...|\n",
            "|        110121316|              [12776]|    (1259,[272],[1.0])|[[1.641635082E9],...|\n",
            "|        110121614|              [12607]|      (1259,[4],[1.0])|[[1.411841619E9],...|\n",
            "|        110125537|               [1947]|     (1259,[34],[1.0])|[[1.756964541E9],...|\n",
            "|        110128818|               [1655]|    (1259,[183],[1.0])|[[1.025385362E9],...|\n",
            "|        110131951|               [1671]|     (1259,[23],[1.0])|[[1.222804521E9],...|\n",
            "|        110139131|        [4509, 13548]|  (1259,[85,433],[1...|[[7.13213714E8], ...|\n",
            "|        110142238|               [1671]|     (1259,[23],[1.0])|[[1.222804521E9],...|\n",
            "|        110142738|               [1935]|     (1259,[61],[1.0])|[[8.44730325E8], ...|\n",
            "|        110148537|               [1937]|     (1259,[39],[1.0])|[[1.814485028E9],...|\n",
            "|        110148733| [1938, 1731, 1950...|  (1259,[4,8,10,14,...|[[6492233.0], [20...|\n",
            "|        110151141|               [1938]|    (1259,[134],[1.0])|[[8.69299538E8], ...|\n",
            "|        110151168| [12612, 12782, 1944]|  (1259,[7,92,120],...|[[6.31124014E8], ...|\n",
            "|        110152922|               [1969]|     (1259,[37],[1.0])|[[9.76246936E8], ...|\n",
            "+-----------------+---------------------+----------------------+--------------------+\n",
            "only showing top 20 rows\n",
            "\n"
          ],
          "name": "stdout"
        }
      ]
    },
    {
      "cell_type": "code",
      "metadata": {
        "colab": {
          "base_uri": "https://localhost:8080/"
        },
        "id": "1E52gseUYQT2",
        "outputId": "d60ca60c-6f7c-4a97-a190-2a28fb48c7cb"
      },
      "source": [
        "df_hash.cache()"
      ],
      "execution_count": null,
      "outputs": [
        {
          "output_type": "execute_result",
          "data": {
            "text/plain": [
              "DataFrame[MasterPlateNumber: string, collect_set(DeviceId): array<string>, DeviceId_OneHotEncoded: vector, hashes: array<vector>]"
            ]
          },
          "metadata": {
            "tags": []
          },
          "execution_count": 5
        }
      ]
    },
    {
      "cell_type": "code",
      "metadata": {
        "colab": {
          "base_uri": "https://localhost:8080/"
        },
        "id": "hL7qhtfJqyTt",
        "outputId": "174d48be-45df-41db-d83e-9283e749707e"
      },
      "source": [
        "import pyspark.sql.functions as F\r\n",
        "from pyspark.ml.feature import  VectorAssembler\r\n",
        "from pyspark.sql.types import *\r\n",
        "from pyspark.sql.functions import col\r\n",
        "\r\n",
        "to_array = F.udf(lambda v: v.toArray().tolist()[0], FloatType())\r\n",
        "\r\n",
        "df_kmeans = df_hash.withColumn('feature1', col(\"hashes\")[0])\r\n",
        "df_kmeans = df_kmeans.withColumn('feature1', to_array(col(\"feature1\")))\r\n",
        "df_kmeans = df_kmeans.withColumn('feature2', col(\"hashes\")[1])\r\n",
        "df_kmeans = df_kmeans.withColumn('feature2', to_array(col(\"feature2\")))\r\n",
        "# df_kmeans = df_kmeans.withColumn('feature3', col(\"hashes\")[2])\r\n",
        "# df_kmeans = df_kmeans.withColumn('feature3', to_array(col(\"feature3\")))\r\n",
        "\r\n",
        "vectorAssembler = VectorAssembler(inputCols = [\"feature1\", \"feature2\"], outputCol = \"features\")\r\n",
        "df_kmeans = vectorAssembler.transform(df_kmeans)\r\n",
        "df_kmeans = df_kmeans.select(['features', 'MasterPlateNumber'])\r\n",
        "\r\n",
        "df_test = df_kmeans.sample(False, 5*10e-4, 123856)\r\n",
        "df_test.show()\r\n",
        "df_test.cache()"
      ],
      "execution_count": null,
      "outputs": [
        {
          "output_type": "stream",
          "text": [
            "+--------------------+-----------------+\n",
            "|            features|MasterPlateNumber|\n",
            "+--------------------+-----------------+\n",
            "|[2.48820448E8,5.5...|        110296210|\n",
            "|[1.18605952E9,1.3...|         11884114|\n",
            "|[3.510184E8,6.834...|        121753844|\n",
            "|[4.26282816E8,1.4...|        121795921|\n",
            "|[2.3027168E7,7.82...|        122198541|\n",
            "|[3.23685792E8,1.1...|        122453599|\n",
            "|[5.0359772E7,3.54...|        123014322|\n",
            "|[5.5621248E8,1.52...|        131544311|\n",
            "|[2.76153056E8,1.6...|        131731221|\n",
            "|[3.9895024E8,1.65...|        132124644|\n",
            "|[9.39267968E8,4.3...|        132914631|\n",
            "|[2.28221232E8,1.8...|        133266177|\n",
            "|[8.5223904E7,5393...|         13933179|\n",
            "|[1.021265792E9,1....|        141794468|\n",
            "|[3.16952416E8,1.4...|        142965416|\n",
            "|[1.165061248E9,1....|        143076311|\n",
            "|[1.1175836E8,7.58...|        150415435|\n",
            "|[1.664180608E9,7....|        150494391|\n",
            "|[2.21088768E8,6.2...|        153254153|\n",
            "|[6.25142592E8,8.8...|        160221764|\n",
            "+--------------------+-----------------+\n",
            "only showing top 20 rows\n",
            "\n"
          ],
          "name": "stdout"
        },
        {
          "output_type": "execute_result",
          "data": {
            "text/plain": [
              "DataFrame[features: vector, MasterPlateNumber: string]"
            ]
          },
          "metadata": {
            "tags": []
          },
          "execution_count": 6
        }
      ]
    },
    {
      "cell_type": "code",
      "metadata": {
        "colab": {
          "base_uri": "https://localhost:8080/"
        },
        "id": "6po3Hhqi8VSB",
        "outputId": "f9168495-b300-4170-fb65-19d3ba958c6f"
      },
      "source": [
        "from pyspark.ml.clustering import KMeans\r\n",
        "k = 25\r\n",
        "kmeans = KMeans().setK(k).setSeed(1).setFeaturesCol(\"features\")\r\n",
        "model_km = kmeans.fit(df_test.select(\"MasterPlateNumber\", \"features\"))\r\n",
        "centers = model_km.clusterCenters()\r\n",
        "\r\n",
        "print(\"Cluster Centers: \")\r\n",
        "for center in centers:\r\n",
        "    print(center)"
      ],
      "execution_count": null,
      "outputs": [
        {
          "output_type": "stream",
          "text": [
            "Cluster Centers: \n",
            "[2.05091536e+08 7.32842780e+07]\n",
            "[1.78171487e+09 1.69685260e+09]\n",
            "[1.70706032e+09 1.21595421e+09]\n",
            "[2.35205374e+08 1.79263114e+09]\n",
            "[1.87843787e+09 7.20420776e+08]\n",
            "[4.07331870e+08 9.53323337e+08]\n",
            "[1.33835273e+09 5.37572905e+08]\n",
            "[65753251.03823894 71202839.25630425]\n",
            "[1.63334825e+08 6.92799542e+08]\n",
            "[1.45626665e+09 9.34538832e+08]\n",
            "[1.81872716e+09 4.83404788e+07]\n",
            "[9.10238038e+08 8.66406498e+07]\n",
            "[7.96000878e+08 1.77616229e+09]\n",
            "[5.93696001e+08 1.30602335e+09]\n",
            "[1.23935233e+09 1.33041801e+08]\n",
            "[3.53515520e+08 7.60475913e+07]\n",
            "[1.58975308e+09 3.05335501e+08]\n",
            "[1.02850544e+09 8.40504257e+08]\n",
            "[8.49433465e+08 5.22550179e+08]\n",
            "[1.16125038e+08 1.24301627e+09]\n",
            "[1.07010603e+08 3.14793941e+08]\n",
            "[4.28057393e+08 3.98265259e+08]\n",
            "[1.34769020e+09 1.73273042e+09]\n",
            "[6.68503372e+08 1.45893689e+08]\n",
            "[1.10789476e+09 1.27502473e+09]\n"
          ],
          "name": "stdout"
        }
      ]
    },
    {
      "cell_type": "code",
      "metadata": {
        "colab": {
          "base_uri": "https://localhost:8080/"
        },
        "id": "F4pqDiplPZQP",
        "outputId": "b5a62f62-3cef-4947-a948-c1373e5e74a4"
      },
      "source": [
        "df_test.unpersist()\r\n",
        "clustered_df =  model_km.transform(df_kmeans.select(\"MasterPlateNumber\", \"features\"))\r\n",
        "clustered_df.show()"
      ],
      "execution_count": null,
      "outputs": [
        {
          "output_type": "stream",
          "text": [
            "+-----------------+--------------------+----------+\n",
            "|MasterPlateNumber|            features|prediction|\n",
            "+-----------------+--------------------+----------+\n",
            "|         10887582|[3.5854992E8,1.69...|         3|\n",
            "|        110111844|[1.999304192E9,1....|         1|\n",
            "|        110113118|[1.73556016E8,2.5...|        20|\n",
            "|        110114789|[9.1558208E7,1.38...|        19|\n",
            "|        110118310|[2.2148784E8,1.75...|         3|\n",
            "|        110118558|[3.37551648E8,5.2...|        15|\n",
            "|        110121112|[2.76153056E8,4.2...|        21|\n",
            "|        110121316|[8.43803392E8,6.0...|        18|\n",
            "|        110121614|[1.18491744E8,1.2...|        19|\n",
            "|        110125537|[1.431653888E9,9....|         9|\n",
            "|        110128818|[4.12816064E8,4.9...|        21|\n",
            "|        110131951|[1.561583488E9,1....|         2|\n",
            "|        110139131|[1.014532416E9,8....|        17|\n",
            "|        110142238|[1.561583488E9,1....|         2|\n",
            "|        110142738|[3.71617632E8,1.5...|        13|\n",
            "|        110148537|[6.31476864E8,2.2...|        23|\n",
            "|        110148733|[1.18491744E8,3.1...|         7|\n",
            "|        110151141|[1.732711552E9,6....|         4|\n",
            "|        110151168|[4.53615424E8,2.6...|        21|\n",
            "|        110152922|[1.7667776E9,1.04...|        10|\n",
            "+-----------------+--------------------+----------+\n",
            "only showing top 20 rows\n",
            "\n"
          ],
          "name": "stdout"
        }
      ]
    },
    {
      "cell_type": "code",
      "metadata": {
        "colab": {
          "base_uri": "https://localhost:8080/"
        },
        "id": "o0udgHQXUsal",
        "outputId": "daf9f5e2-4ed7-4e72-b1ca-586e0489d97c"
      },
      "source": [
        "# float_centers = []\r\n",
        "\r\n",
        "# for center in centers:\r\n",
        "#   float_center = []\r\n",
        "\r\n",
        "#   for c in center:\r\n",
        "#     float_center.append(c.item())\r\n",
        "\r\n",
        "#   float_centers.append(float_center)\r\n",
        "\r\n",
        "# center_df = spark.createDataFrame(float_centers, ArrayType(FloatType())).withColumnRenamed(\"value\", \"center\")\r\n",
        "# center_df.show()\r\n",
        "cluster_count_df = clustered_df.groupby('prediction').agg(F.count(\"MasterPlateNumber\")).toPandas()\r\n",
        "print(cluster_count_df)\r\n"
      ],
      "execution_count": null,
      "outputs": [
        {
          "output_type": "stream",
          "text": [
            "    prediction  count(MasterPlateNumber)\n",
            "0           12                    275401\n",
            "1           22                    289055\n",
            "2            1                    332186\n",
            "3           13                    393924\n",
            "4            6                    303255\n",
            "5           16                    176999\n",
            "6            3                    237846\n",
            "7           20                    645515\n",
            "8            5                    646014\n",
            "9           19                    547046\n",
            "10          15                    833329\n",
            "11           9                    188712\n",
            "12          17                    332564\n",
            "13           4                    232617\n",
            "14           8                    478150\n",
            "15          23                    448760\n",
            "16           7                    976911\n",
            "17          10                    324468\n",
            "18          24                    445777\n",
            "19          21                    645662\n",
            "20          11                    195329\n",
            "21          14                    309573\n",
            "22           2                    268096\n",
            "23           0                    557556\n",
            "24          18                    394114\n"
          ],
          "name": "stdout"
        }
      ]
    },
    {
      "cell_type": "code",
      "metadata": {
        "colab": {
          "base_uri": "https://localhost:8080/"
        },
        "id": "LkS335KVaPM8",
        "outputId": "538ecd06-4a11-491f-94ef-2f65201624d2"
      },
      "source": [
        "ta = clustered_df.alias('ta')\r\n",
        "tb = df_hash.alias('tb')\r\n",
        "inner_join = ta.join(tb, ta.MasterPlateNumber == tb.MasterPlateNumber)\r\n",
        "inner_join.show()\r\n",
        "df_hash.unpersist()inner_join.cache()"
      ],
      "execution_count": null,
      "outputs": [
        {
          "output_type": "stream",
          "text": [
            "+-----------------+--------------------+----------+-----------------+---------------------+----------------------+--------------------+\n",
            "|MasterPlateNumber|            features|prediction|MasterPlateNumber|collect_set(DeviceId)|DeviceId_OneHotEncoded|              hashes|\n",
            "+-----------------+--------------------+----------+-----------------+---------------------+----------------------+--------------------+\n",
            "|         10887582|[3.5854992E8,1.69...|         3|         10887582|              [13882]|    (1259,[517],[1.0])|[[3.5854993E8], [...|\n",
            "|        110111844|[1.999304192E9,1....|         1|        110111844|              [12914]|     (1259,[33],[1.0])|[[1.999304252E9],...|\n",
            "|        110113118|[1.73556016E8,2.5...|        20|        110113118|               [1699]|    (1259,[266],[1.0])|[[1.73556021E8], ...|\n",
            "|        110114789|[9.1558208E7,1.38...|        19|        110114789|       [12774, 12914]|  (1259,[33,320],[1...|[[9.1558212E7], [...|\n",
            "|        110118310|[2.2148784E8,1.75...|         3|        110118310|              [12764]|    (1259,[309],[1.0])|[[2.21487844E8], ...|\n",
            "|        110118558|[3.37551648E8,5.2...|        15|        110118558|               [1703]|    (1259,[158],[1.0])|[[3.37551639E8], ...|\n",
            "|        110121112|[2.76153056E8,4.2...|        21|        110121112|  [1734, 4499, 12620]|  (1259,[147,220,27...|[[2.7615305E8], [...|\n",
            "|        110121316|[8.43803392E8,6.0...|        18|        110121316|              [12776]|    (1259,[272],[1.0])|[[8.43803401E8], ...|\n",
            "|        110121614|[1.18491744E8,1.2...|        19|        110121614|              [12607]|      (1259,[4],[1.0])|[[1.18491744E8], ...|\n",
            "|        110125537|[1.431653888E9,9....|         9|        110125537|               [1947]|     (1259,[34],[1.0])|[[1.431653901E9],...|\n",
            "|        110128818|[4.12816064E8,4.9...|        21|        110128818|               [1655]|    (1259,[183],[1.0])|[[4.12816065E8], ...|\n",
            "|        110131951|[1.561583488E9,1....|         2|        110131951|               [1671]|     (1259,[23],[1.0])|[[1.561583533E9],...|\n",
            "|        110139131|[1.014532416E9,8....|        17|        110139131|        [4509, 13548]|  (1259,[85,433],[1...|[[1.014532402E9],...|\n",
            "|        110142238|[1.561583488E9,1....|         2|        110142238|               [1671]|     (1259,[23],[1.0])|[[1.561583533E9],...|\n",
            "|        110142738|[3.71617632E8,1.5...|        13|        110142738|               [1935]|     (1259,[61],[1.0])|[[3.71617625E8], ...|\n",
            "|        110148537|[6.31476864E8,2.2...|        23|        110148537|               [1937]|     (1259,[39],[1.0])|[[6.31476889E8], ...|\n",
            "|        110148733|[1.18491744E8,3.1...|         7|        110148733| [1938, 1731, 1950...|  (1259,[4,8,10,14,...|[[1.18491744E8], ...|\n",
            "|        110151141|[1.732711552E9,6....|         4|        110151141|               [1938]|    (1259,[134],[1.0])|[[1.732711605E9],...|\n",
            "|        110151168|[4.53615424E8,2.6...|        21|        110151168| [12612, 12782, 1944]|  (1259,[7,92,120],...|[[4.53615434E8], ...|\n",
            "|        110152922|[1.7667776E9,1.04...|        10|        110152922|               [1969]|     (1259,[37],[1.0])|[[1.766777591E9],...|\n",
            "+-----------------+--------------------+----------+-----------------+---------------------+----------------------+--------------------+\n",
            "only showing top 20 rows\n",
            "\n"
          ],
          "name": "stdout"
        },
        {
          "output_type": "execute_result",
          "data": {
            "text/plain": [
              "DataFrame[MasterPlateNumber: string, features: vector, prediction: int, MasterPlateNumber: string, collect_set(DeviceId): array<string>, DeviceId_OneHotEncoded: vector, hashes: array<vector>]"
            ]
          },
          "metadata": {
            "tags": []
          },
          "execution_count": 10
        }
      ]
    },
    {
      "cell_type": "code",
      "metadata": {
        "colab": {
          "base_uri": "https://localhost:8080/"
        },
        "id": "9GeZKTarYn6b",
        "outputId": "99938984-6d50-46e0-b79f-88555edee500"
      },
      "source": [
        "from pyspark.sql.functions import lit, when, col\r\n",
        "from pyspark.sql.functions import udf, array\r\n",
        "from pyspark.sql.types import *\r\n",
        "\r\n",
        "df = inner_join.filter(inner_join.prediction == 0)\r\n",
        "df = df.select(\"ta.MasterPlateNumber\", \"collect_set(DeviceId)\", \"DeviceId_OneHotEncoded\", \"hashes\" )\r\n",
        "\r\n",
        "model.approxSimilarityJoin(df, df,  0.6, distCol=\"EuclideanDistance\")\\\r\n",
        "    .select(col(\"datasetA.MasterPlateNumber\").alias(\"MasterPlateNumber_1\"),\r\n",
        "            col(\"datasetB.MasterPlateNumber\").alias(\"MasterPlateNumber_2\"),\r\n",
        "            col(\"EuclideanDistance\")).show(100)\r\n"
      ],
      "execution_count": null,
      "outputs": [
        {
          "output_type": "stream",
          "text": [
            "+-------------------+-------------------+-----------------+\n",
            "|MasterPlateNumber_1|MasterPlateNumber_2|EuclideanDistance|\n",
            "+-------------------+-------------------+-----------------+\n",
            "|          112887788|          170697666|              0.0|\n",
            "|          112887788|          211778831|              0.0|\n",
            "|          112887788|          461968177|              0.0|\n",
            "|          112887788|          522847161|              0.0|\n",
            "|          112887788|          552824235|              0.5|\n",
            "|          112887788|          632921533|              0.0|\n",
            "|          112887788|          813198620|              0.0|\n",
            "|          112887788|          860226818|              0.0|\n",
            "|          112887788|          912451433|              0.0|\n",
            "|          112887788|          982479410|              0.0|\n",
            "|          112887788|          993115281|              0.0|\n",
            "|          130185114|          121725734|              0.5|\n",
            "|          130185114|          152723338|              0.5|\n",
            "|          130185114|          162844367|              0.0|\n",
            "|          130185114|          232153585|              0.0|\n",
            "|          130185114|          292936932|              0.0|\n",
            "|          130185114|          420672566|              0.0|\n",
            "|          130185114|          430677538|              0.5|\n",
            "|          130185114|          532774123|              0.0|\n",
            "|          130185114|          670697388|              0.5|\n",
            "|          130185114|          693284387|              0.0|\n",
            "|          130185114|          751961877|              0.5|\n",
            "|          130185114|          831781726|              0.0|\n",
            "|          162781822|          122986966|              0.5|\n",
            "|          162781822|          312736966|              0.5|\n",
            "|          162781822|          381953742|              0.0|\n",
            "|          162781822|          522192511|              0.5|\n",
            "|          162781822|          530612888|              0.0|\n",
            "|          162781822|          543224988|              0.0|\n",
            "|          162781822|          641016633|              0.5|\n",
            "|          162781822|          723289313|              0.0|\n",
            "|          162781822|          782995520|              0.5|\n",
            "|          162781822|          861523614|              0.0|\n",
            "|          162781822|          910228171|              0.5|\n",
            "|          162781822|          940245855|              0.5|\n",
            "|          162781822|          971968910|              0.0|\n",
            "|          223147523|          110116732|              0.0|\n",
            "|          223147523|          152797932|              0.5|\n",
            "|          223147523|          191531583|              0.0|\n",
            "|          223147523|          210419521|              0.0|\n",
            "|          223147523|          270261956|              0.0|\n",
            "|          223147523|          682482223|              0.0|\n",
            "|          223147523|          820496526|              0.0|\n",
            "|          223147523|          882191223|              0.0|\n",
            "|          223147523|          931926477|              0.5|\n",
            "|          230279747|          122962868|              0.0|\n",
            "|          230279747|          222813119|              0.0|\n",
            "|          230279747|          223148225|              0.0|\n",
            "|          230279747|          242147622|              0.0|\n",
            "|          230279747|          272745923|              0.0|\n",
            "|          230279747|          290676525|              0.5|\n",
            "|          230279747|          391765210|              0.5|\n",
            "|          230279747|          422964341|              0.0|\n",
            "|          230279747|          442149826|              0.0|\n",
            "|          230279747|          453263732|              0.0|\n",
            "|          230279747|          482437342|              0.0|\n",
            "|          230279747|          590255231|              0.0|\n",
            "|          230279747|          610653332|              0.0|\n",
            "|          230279747|          622166664|              0.0|\n",
            "|          230279747|          633199319|              0.0|\n",
            "|          230279747|          652425610|              0.0|\n",
            "|          230279747|          662853436|              0.5|\n",
            "|          230279747|          710261912|              0.0|\n",
            "|          230279747|          712192855|              0.0|\n",
            "|          230279747|          850652417|              0.0|\n",
            "|          230279747|          942126231|              0.0|\n",
            "|          230279747|          961574917|              0.0|\n",
            "|          230627636|          450699412|              0.5|\n",
            "|          230627636|          462166666|              0.5|\n",
            "|          230627636|          553068199|              0.5|\n",
            "|          230627636|          612717191|              0.5|\n",
            "|          230627636|          770225342|              0.5|\n",
            "|          230627636|          880212499|              0.5|\n",
            "|          230627636|          942136463|              0.5|\n",
            "|          263219655|          130276623|              0.0|\n",
            "|          263219655|          171557733|              0.5|\n",
            "|          263219655|          412764110|              0.5|\n",
            "|          263219655|          431911988|              0.5|\n",
            "|          263219655|          452115666|              0.5|\n",
            "|          263219655|          522815166|              0.5|\n",
            "|          263219655|          543031246|              0.0|\n",
            "|          263219655|          652196144|              0.5|\n",
            "|          263219655|          662136665|              0.0|\n",
            "|          263219655|          663266365|              0.0|\n",
            "|          263219655|          742815788|              0.0|\n",
            "|          263219655|          922166644|              0.0|\n",
            "|          272448621|          272448621|              0.0|\n",
            "|          331768611|          131973226|              0.5|\n",
            "|          331768611|          172763985|              0.5|\n",
            "|          331768611|          213141789|              0.5|\n",
            "|          331768611|          260668686|              0.5|\n",
            "|          331768611|          453263737|              0.5|\n",
            "|          331768611|          462413289|              0.5|\n",
            "|          331768611|          462426545|              0.5|\n",
            "|          331768611|          522742313|              0.5|\n",
            "|          331768611|          582122196|              0.5|\n",
            "|          331768611|          583216511|              0.5|\n",
            "|          331768611|          741028147|              0.5|\n",
            "|          331768611|          833254122|              0.5|\n",
            "|          331768611|          872938825|              0.5|\n",
            "+-------------------+-------------------+-----------------+\n",
            "only showing top 100 rows\n",
            "\n"
          ],
          "name": "stdout"
        }
      ]
    },
    {
      "cell_type": "code",
      "metadata": {
        "colab": {
          "base_uri": "https://localhost:8080/"
        },
        "id": "pvXdMT5YIj3Y",
        "outputId": "7bd170a0-4c10-42e1-89ea-abe884447afd"
      },
      "source": [
        "df = inner_join.filter(inner_join.prediction == 1)\r\n",
        "df = df.select(\"ta.MasterPlateNumber\", \"collect_set(DeviceId)\", \"DeviceId_OneHotEncoded\", \"hashes\" )\r\n",
        "\r\n",
        "model.approxSimilarityJoin(df, df,  0.6, distCol=\"EuclideanDistance\")\\\r\n",
        "    .select(col(\"datasetA.MasterPlateNumber\").alias(\"MasterPlateNumber_1\"),\r\n",
        "            col(\"datasetB.MasterPlateNumber\").alias(\"MasterPlateNumber_2\"),\r\n",
        "            col(\"EuclideanDistance\")).show(100)\r\n"
      ],
      "execution_count": null,
      "outputs": [
        {
          "output_type": "stream",
          "text": [
            "+-------------------+-------------------+-----------------+\n",
            "|MasterPlateNumber_1|MasterPlateNumber_2|EuclideanDistance|\n",
            "+-------------------+-------------------+-----------------+\n",
            "|          110245364|          271772710|              0.0|\n",
            "|          110245364|          280644399|              0.0|\n",
            "|          110245364|          321014247|              0.0|\n",
            "|          110245364|          341023123|              0.0|\n",
            "|          110245364|          512412955|              0.0|\n",
            "|          110245364|          680425638|              0.0|\n",
            "|          110245364|          713276412|              0.0|\n",
            "|          110245364|          983263433|              0.0|\n",
            "|          110355511|          110355511|              0.0|\n",
            "|          110355511|          181984513|              0.0|\n",
            "|          110355511|          351587866|              0.0|\n",
            "|          110355511|          651725654|              0.0|\n",
            "|          110355511|          692411730|              0.0|\n",
            "|          111928957|          172772680|              0.0|\n",
            "|          111928957|          193092277|              0.0|\n",
            "|          111928957|          373089766|              0.0|\n",
            "|          111928957|          382848955|              0.0|\n",
            "|          111928957|          540663287|              0.0|\n",
            "|          111928957|          623037620|              0.0|\n",
            "|          111928957|          661029524|              0.0|\n",
            "|          111928957|          762826432|              0.0|\n",
            "|          112446144|          273287855|              0.0|\n",
            "|          112446144|          280656651|              0.0|\n",
            "|          112446144|          311794299|              0.0|\n",
            "|          112446144|          531084566|              0.0|\n",
            "|          112446144|          551912240|              0.0|\n",
            "|          112446144|          781742520|              0.0|\n",
            "|          112737920|          261098668|              0.0|\n",
            "|          112737920|          362843177|              0.0|\n",
            "|          112737920|          512826978|              0.0|\n",
            "|          112737920|          553062730|              0.0|\n",
            "|          120261350|          271921577|              0.0|\n",
            "|          120261350|          383039988|              0.0|\n",
            "|          120261350|          483187288|              0.0|\n",
            "|          120261350|          532451255|              0.0|\n",
            "|          120261350|          893283155|              0.0|\n",
            "|          121038420|          110245364|              0.0|\n",
            "|          121038420|          121925243|              0.0|\n",
            "|          121038420|          230295410|              0.0|\n",
            "|          121038420|          421788631|              0.0|\n",
            "|          121038420|          463238423|              0.0|\n",
            "|          121038420|          692855320|              0.0|\n",
            "|          121924633|          240278177|              0.0|\n",
            "|          121924633|          512935720|              0.0|\n",
            "|          121924633|          680282266|              0.0|\n",
            "|          121924633|          982713620|              0.0|\n",
            "|          121925243|          222926831|              0.0|\n",
            "|          121925243|          271921577|              0.0|\n",
            "|          121925243|          352797520|              0.0|\n",
            "|          121925243|          521532481|              0.0|\n",
            "|          121928140|          273287855|              0.0|\n",
            "|          121928140|          450626466|              0.0|\n",
            "|          121928140|          531733338|              0.0|\n",
            "|          121928140|          941072916|              0.0|\n",
            "|          122418216|          711784974|              0.0|\n",
            "|          122418216|          920218966|              0.0|\n",
            "|          123087638|          223171643|              0.0|\n",
            "|          123087638|          253297355|              0.0|\n",
            "|          123087638|          562894212|              0.0|\n",
            "|          123198355|          313192922|              0.0|\n",
            "|          123198355|          321951220|              0.0|\n",
            "|          123198355|          363216378|              0.0|\n",
            "|          123198355|          741716277|              0.0|\n",
            "|          130235266|          280656651|              0.0|\n",
            "|          130235266|          472415329|              0.0|\n",
            "|          130235266|          552131223|              0.0|\n",
            "|          130235266|          963093257|              0.0|\n",
            "|          130235266|          992989320|              0.0|\n",
            "|          130667266|          210238899|              0.0|\n",
            "|          130667266|          211046220|              0.0|\n",
            "|          130667266|          272843852|              0.0|\n",
            "|          130667266|          273287855|              0.0|\n",
            "|          130667266|          442791552|              0.0|\n",
            "|          130667266|          523258833|              0.0|\n",
            "|          130667266|          642953942|              0.0|\n",
            "|          130667266|          851067410|              0.0|\n",
            "|          130676730|          112446144|              0.0|\n",
            "|          130676730|          281992966|              0.0|\n",
            "|          130676730|          390648361|              0.0|\n",
            "|          130676730|          721752810|              0.0|\n",
            "|          132457338|          182732132|              0.0|\n",
            "|          132457338|          883125432|              0.0|\n",
            "|          132457338|          890656477|              0.0|\n",
            "|          132457338|          981932567|              0.0|\n",
            "|          132457338|          993047652|              0.0|\n",
            "|          132744368|          291971488|              0.0|\n",
            "|          132744368|          422423599|              0.0|\n",
            "|          132744368|          931547544|              0.0|\n",
            "|          132773578|          360251132|              0.0|\n",
            "|          132773578|          620663553|              0.0|\n",
            "|          132773578|          872813899|              0.0|\n",
            "|          133038511|          322438844|              0.0|\n",
            "|          133038511|          381726747|              0.0|\n",
            "|          133168220|          130233399|              0.0|\n",
            "|          133168220|          192493164|              0.0|\n",
            "|          133168220|          451067310|              0.0|\n",
            "|          141065257|          332732744|              0.0|\n",
            "|          141065257|          363097421|              0.0|\n",
            "|          141065257|          793081220|              0.0|\n",
            "|          141724823|          133185382|              0.0|\n",
            "+-------------------+-------------------+-----------------+\n",
            "only showing top 100 rows\n",
            "\n"
          ],
          "name": "stdout"
        }
      ]
    },
    {
      "cell_type": "code",
      "metadata": {
        "id": "fisgL3Yx57Gc"
      },
      "source": [
        ""
      ],
      "execution_count": null,
      "outputs": []
    },
    {
      "cell_type": "markdown",
      "metadata": {
        "id": "SaN-PWicozDn"
      },
      "source": [
        ""
      ]
    },
    {
      "cell_type": "markdown",
      "metadata": {
        "id": "DTBZOrmU57uC"
      },
      "source": [
        "Page Rank:\r\n"
      ]
    },
    {
      "cell_type": "code",
      "metadata": {
        "id": "LIBWMiB05_Ns",
        "colab": {
          "base_uri": "https://localhost:8080/"
        },
        "outputId": "d51ec8a4-c813-40f1-ba58-eecd01704de0"
      },
      "source": [
        "from pyspark.sql.functions import  lead, desc,col\r\n",
        "from pyspark.sql.window import Window\r\n",
        "from pyspark.sql.types import *\r\n",
        "\r\n",
        "df = data.withColumn(\"PassDatetime\",col(\"PassDatetime\").cast(TimestampType()))\r\n",
        "df = df.withColumn(\"lead_DeviceId\", lead(\"DeviceId\").over(\r\n",
        "    Window.partitionBy('MasterPlateNumber').orderBy(desc('PassDatetime'))))\r\n",
        "df = df.na.drop()\r\n",
        "df.show()\r\n",
        "df.cache()"
      ],
      "execution_count": null,
      "outputs": [
        {
          "output_type": "stream",
          "text": [
            "+-------------------+---------+-----------------+--------+--------+----------+---------+--------+-------------+\n",
            "|       PassDatetime|CompanyId|MasterPlateNumber|DeviceId|SystemId|ImageScore|CrimeCode|CarSpeed|lead_DeviceId|\n",
            "+-------------------+---------+-----------------+--------+--------+----------+---------+--------+-------------+\n",
            "|2020-06-08 00:20:09|      264|        110114789|   12774|     284|        84|     2063|       0|        12914|\n",
            "|2020-05-02 10:31:25|      264|        110121112|    1734|     283|        84|     2126|       0|        12620|\n",
            "|2020-05-01 17:37:08|      161|        110121112|   12620|     284|        84|     2063|       0|         4499|\n",
            "|2020-06-15 12:01:10|      264|        110139131|    4509|     283|        84|     2126|       0|        13548|\n",
            "|2020-06-20 10:33:23|      264|        110148733|    1708|     283|       100|     2126|       0|        12607|\n",
            "|2020-06-20 08:23:10|      305|        110148733|   12607|     282|        77|     2172|      71|         1950|\n",
            "|2020-06-13 13:59:11|      264|        110148733|    1950|     283|       100|     2126|       0|        13611|\n",
            "|2020-06-13 13:56:00|      161|        110148733|   13611|      81|        20|     2082|       0|        13495|\n",
            "|2020-06-13 13:21:00|      161|        110148733|   13495|      81|        20|     2082|       0|        13620|\n",
            "|2020-06-11 12:06:00|      161|        110148733|   13620|      81|        20|     2082|       0|         1944|\n",
            "|2020-06-10 13:31:25|      264|        110148733|    1944|     283|       100|     2126|       0|         1945|\n",
            "|2020-06-10 10:08:23|      264|        110148733|    1945|     283|       100|     2126|       0|         1974|\n",
            "|2020-06-10 10:03:31|      264|        110148733|    1974|     283|       100|     2126|       0|         1877|\n",
            "|2020-06-10 09:30:34|      264|        110148733|    1877|     283|       100|     2126|       0|        12879|\n",
            "|2020-06-09 11:48:03|      264|        110148733|   12879|     283|       100|     2126|       0|        12849|\n",
            "|2020-06-09 11:47:45|      264|        110148733|   12849|     283|       100|     2126|       0|        12884|\n",
            "|2020-06-08 14:04:06|      264|        110148733|   12884|     283|       100|     2126|       0|        12849|\n",
            "|2020-06-07 15:11:05|      264|        110148733|   12849|     283|       100|     2126|       0|         1938|\n",
            "|2020-06-07 14:33:12|      264|        110148733|    1938|     283|       100|     2126|       0|         1944|\n",
            "|2020-05-27 15:24:51|      264|        110148733|    1944|     283|        60|     2126|       0|         1944|\n",
            "+-------------------+---------+-----------------+--------+--------+----------+---------+--------+-------------+\n",
            "only showing top 20 rows\n",
            "\n"
          ],
          "name": "stdout"
        },
        {
          "output_type": "execute_result",
          "data": {
            "text/plain": [
              "DataFrame[PassDatetime: timestamp, CompanyId: string, MasterPlateNumber: string, DeviceId: string, SystemId: string, ImageScore: string, CrimeCode: string, CarSpeed: string, lead_DeviceId: string]"
            ]
          },
          "metadata": {
            "tags": []
          },
          "execution_count": 2
        }
      ]
    },
    {
      "cell_type": "code",
      "metadata": {
        "colab": {
          "base_uri": "https://localhost:8080/"
        },
        "id": "UlUPjZzrJuEF",
        "outputId": "acf46f5a-dc25-4dca-c5b2-a459cca7be9f"
      },
      "source": [
        "from pyspark.sql.functions import collect_set\r\n",
        "from pyspark.sql.functions import lit\r\n",
        "\r\n",
        "df2 = df.select('DeviceId', 'lead_DeviceId').groupBy(\"DeviceId\").agg(collect_set(\"lead_DeviceId\"))\r\n",
        "df2 = df2.withColumn('Rank', lit(1))\r\n",
        "df2.show()\r\n",
        "df2.cache()"
      ],
      "execution_count": null,
      "outputs": [
        {
          "output_type": "stream",
          "text": [
            "+--------+--------------------------+----+\n",
            "|DeviceId|collect_set(lead_DeviceId)|Rank|\n",
            "+--------+--------------------------+----+\n",
            "|   13442|      [13663, 12612, 12...|   1|\n",
            "|   13610|      [12861, 13614, 13...|   1|\n",
            "|   13772|      [13706, 12612, 13...|   1|\n",
            "|   13865|      [1713, 12612, 137...|   1|\n",
            "|   12637|      [12612, 901, 1313...|   1|\n",
            "|   12204|      [13706, 1877, 136...|   1|\n",
            "|   12750|      [13636, 12612, 13...|   1|\n",
            "|   13041|      [12612, 12767, 12...|   1|\n",
            "|   13170|      [12861, 13679, 13...|   1|\n",
            "|   13395|      [12861, 12612, 13...|   1|\n",
            "|   13460|      [13706, 12861, 13...|   1|\n",
            "|   13660|      [13614, 1574, 126...|   1|\n",
            "|   13866|      [1713, 12612, 135...|   1|\n",
            "|   12710|      [12861, 13614, 13...|   1|\n",
            "|   13174|      [1877, 13614, 136...|   1|\n",
            "|   13805|      [12861, 12612, 17...|   1|\n",
            "|   13429|      [13663, 13614, 13...|   1|\n",
            "|   13655|      [13614, 12639, 13...|   1|\n",
            "|   13700|      [12612, 901, 1373...|   1|\n",
            "|   13906|      [13706, 12612, 43...|   1|\n",
            "+--------+--------------------------+----+\n",
            "only showing top 20 rows\n",
            "\n"
          ],
          "name": "stdout"
        },
        {
          "output_type": "execute_result",
          "data": {
            "text/plain": [
              "DataFrame[DeviceId: string, collect_set(lead_DeviceId): array<string>, Rank: int]"
            ]
          },
          "metadata": {
            "tags": []
          },
          "execution_count": 3
        }
      ]
    },
    {
      "cell_type": "code",
      "metadata": {
        "colab": {
          "base_uri": "https://localhost:8080/"
        },
        "id": "jxWD2YyTNIjj",
        "outputId": "eea634df-277a-4af2-cc9a-2b6730465b3a"
      },
      "source": [
        "df.unpersist()\r\n",
        "rdd = df2.rdd.map(tuple)\r\n",
        "rdd.cache()\r\n",
        "df2.unpersist()"
      ],
      "execution_count": null,
      "outputs": [
        {
          "output_type": "execute_result",
          "data": {
            "text/plain": [
              "DataFrame[DeviceId: string, collect_set(lead_DeviceId): array<string>, Rank: int]"
            ]
          },
          "metadata": {
            "tags": []
          },
          "execution_count": 4
        }
      ]
    },
    {
      "cell_type": "code",
      "metadata": {
        "id": "yMuPVDXhbcoH"
      },
      "source": [
        "def func(routes, rank):\r\n",
        "  pgr = []\r\n",
        "  l = len(routes)\r\n",
        "  for r in routes:\r\n",
        "    pgr.append((r,rank/l))\r\n",
        "  \r\n",
        "  return pgr"
      ],
      "execution_count": null,
      "outputs": []
    },
    {
      "cell_type": "code",
      "metadata": {
        "colab": {
          "base_uri": "https://localhost:8080/"
        },
        "id": "I7VNwQpEW8Xf",
        "outputId": "9e232c43-18ad-4fd3-a40b-47d4af0ef6bf"
      },
      "source": [
        "rdd2 = rdd.flatMap(lambda X: func(X[1], X[2]))\r\n",
        "ranks = rdd2.reduceByKey(lambda x,y: x+y).mapValues(lambda rank: rank*0.85 + 0.15)\r\n",
        "rdd_joined = rdd.join(ranks)\r\n",
        "rdd = rdd_joined.map(lambda x:(x[0], x[1][0], x[1][1])) \r\n",
        "print(rdd.take(5))"
      ],
      "execution_count": null,
      "outputs": [
        {
          "output_type": "stream",
          "text": [
            "[('966', ['1877', '12612', '1730', '962', '13576', '13132', '12914', '13624', '12890', '12849', '966', '13269', '4370', '13638', '503', '320', '12869', '12886', '13652', '969', '13256', '13490', '532', '12607', '1529', '12884', '13403', '4406', '13664', '4358', '13674', '13489', '13642', '13646', '12777', '1962', '13637', '13848', '13201', '13612', '13659', '13742', '842', '13677', '12606', '1708', '1452', '1668', '12605', '961', '13668', '1637', '4508', '1882', '13200', '13258', '12782', '13645', '13198', '4377', '13660', '12899', '1969', '12725', '12910', '12871', '1681', '13655', '13750', '13871', '834', '13885', '1947', '12624', '13100', '13197', '843', '12842', '12618', '13503', '963', '13754', '13390', '13640', '4407', '12843', '12903', '13506', '1970', '310', '12654', '4262', '13463', '967', '1945', '13662', '965', '12199', '1672', '968', '13630', '13440', '13266', '4645', '505', '1684', '1938', '13524', '1889', '1731', '13633', '13439', '327', '13666', '1671', '13486', '13039', '13635', '13173', '12845', '13487', '13617', '13128', '848', '1890', '1810', '13044', '1939', '13631', '13625', '13916', '1886', '964', '13502', '970', '12611', '326', '13636', '13663'], 0.3586240655585158), ('544', ['1922', '1877', '12612', '1730', '12672', '1923', '12767', '547', '366', '12618', '12675', '13568', '1943', '13812', '13624', '12843', '13474', '13903', '12787', '12890', '13897', '12903', '12639', '1636', '13381', '13585', '13641', '13638', '13551', '12865', '13512', '4494', '12869', '1734', '13429', '12886', '13490', '12758', '13643', '12759', '1700', '12607', '13662', '1687', '13552', '1976', '13421', '13664', '13561', '13499', '13674', '13630', '13642', '13646', '13097', '12657', '13637', '345', '505', '12766', '1954', '542', '13659', '1950', '4458', '12760', '1627', '1888', '13667', '544', '13666', '321', '13639', '1797', '13558', '13635', '12768', '12690', '12845', '13668', '4387', '13692', '522', '550', '13671', '1696', '523', '12641', '1882', '12623', '13645', '12859', '13631', '13625', '12899', '1969', '13634', '13553', '4498', '12871', '13655', '13452', '1720', '13521', '12611', '13680', '548', '13925', '12624', '13548', '13584', '13663', '13636'], 0.3355027549676483), ('4335', ['12612', '13739', '4392', '13132', '13607', '12914', '368', '13679', '1444', '13624', '1943', '12890', '4514', '1685', '12639', '13793', '4370', '13741', '13387', '1887', '13628', '1892', '13595', '12869', '13579', '546', '1978', '4394', '12647', '13490', '13643', '12703', '13485', '13488', '12755', '902', '4347', '13616', '1673', '12680', '13456', '13664', '13724', '13642', '13646', '13756', '13613', '13637', '12667', '12696', '13810', '12773', '508', '13612', '1966', '1355', '1691', '13800', '4349', '1703', '13862', '842', '300', '12678', '314', '1583', '13677', '1973', '1708', '4339', '12677', '3031', '526', '13459', '1961', '12690', '12892', '4344', '13668', '13829', '1448', '4354', '13762', '1637', '4376', '1664', '1881', '13769', '13654', '12653', '1699', '12899', '12775', '1969', '13543', '1937', '13182', '4334', '12725', '13553', '13389', '12871', '12204', '1891', '1681', '13655', '12688', '13500', '12693', '1690', '1947', '13563', '13437', '1933', '332', '13797', '1922', '843', '12737', '12842', '13503', '370', '13640', '1693', '13523', '12754', '13757', '12843', '4346', '12912', '12752', '13506', '13641', '1970', '13551', '1709', '12684', '4455', '12712', '1655', '4494', '13770', '13673', '1734', '1945', '13662', '12722', '337', '1728', '1935', '13791', '12648', '13097', '13773', '13174', '13388', '12766', '1661', '1582', '12881', '1684', '13524', '13891', '4331', '1577', '12642', '4342', '1950', '12930', '13899', '13439', '12756', '1888', '13667', '13208', '13666', '13446', '841', '1667', '12694', '13402', '4465', '13486', '12908', '13173', '12845', '12714', '13617', '13795', '1629', '13482', '12705', '13128', '13176', '848', '4350', '13671', '12692', '12710', '1890', '543', '13583', '12699', '1939', '12623', '4371', '1958', '13631', '1975', '1780', '1886', '4341', '1581', '4338', '13217', '313', '4388', '13407', '13675', '13508', '13788', '13548', '1723', '13636', '13619', '13206', '1730', '1722', '4340', '13576', '4356', '1949', '1872', '12707', '1974', '13428', '12685', '12787', '12849', '13404', '1726', '13638', '13804', '12203', '1934', '1354', '12886', '13632', '13652', '845', '532', '13880', '12607', '12884', '1529', '13528', '13552', '13213', '1944', '13403', '13907', '4337', '1972', '330', '13674', '13489', '13787', '13401', '13505', '13510', '13405', '13555', '12777', '517', '13774', '1580', '13460', '12751', '13085', '13659', '13742', '12857', '4458', '12760', '506', '1796', '13639', '4375', '12606', '12929', '4335', '12879', '4391', '4382', '13692', '13416', '1447', '522', '1967', '1696', '1882', '13601', '12771', '13645', '847', '13653', '13660', '4336', '1689', '13609', '13498', '13894', '1579', '13411', '13611', '13048', '1720', '13830', '1738', '4390', '13570', '1965', '13680', '13740', '12624', '13600', '13678', '13100', '12682', '12618', '1791', '13568', '13765', '13513', '4499', '12742', '4345', '13511', '1959', '12903', '13381', '1636', '13564', '13823', '4454', '1646', '13922', '12726', '12865', '4493', '13512', '13703', '13626', '1678', '310', '1533', '13463', '12759', '1936', '13924', '1700', '1687', '13591', '13421', '12776', '13561', '13499', '1711', '13630', '1979', '13798', '13735', '13086', '13520', '1878', '505', '13529', '12753', '1952', '1889', '13053', '4355', '1731', '13629', '12770', '13633', '2989', '1879', '327', '513', '12689', '1671', '4393', '13039', '12745', '1880', '1932', '12701', '13487', '13507', '4366', '318', '1631', '13538', '12641', '523', '13805', '13737', '846', '12708', '1894', '13887', '13625', '12749', '13620', '536', '1977', '13057', '4498', '13502', '13790', '1714', '970', '12660', '13384', '12611', '4495', '13584', '13663', '1877'], 0.8080840585071347), ('2995', ['12612', '12842', '1872', '13390', '13851', '13640', '1974', '1693', '4499', '13132', '12914', '13624', '12787', '12890', '12903', '12912', '12849', '13560', '13823', '13641', '1970', '1887', '13581', '12865', '1655', '13809', '12886', '13632', '1978', '1533', '1705', '12755', '12607', '1945', '12884', '13528', '13393', '1944', '13096', '1935', '2995', '13664', '13499', '1711', '13630', '13642', '13646', '13637', '13520', '13529', '13430', '1355', '13524', '13053', '1684', '13659', '13633', '2989', '12930', '12756', '1888', '13677', '13666', '13639', '1671', '4465', '13486', '13039', '1880', '12735', '12879', '12908', '12892', '12845', '13668', '13487', '848', '13423', '543', '13737', '1881', '1688', '12653', '13645', '13631', '12899', '1969', '1977', '1937', '1886', '1579', '13502', '13611', '1720', '13750', '1873', '1738', '13521', '12624', '13563', '13678', '13100', '13663', '1877'], 0.2948228131586619), ('844', ['12612', '1455', '13739', '4392', '13132', '368', '12914', '511', '1943', '1444', '13624', '13526', '12890', '13886', '1685', '4514', '1946', '4370', '13741', '4353', '13906', '1887', '503', '13771', '1892', '13628', '13556', '320', '13682', '12869', '546', '1978', '4394', '13490', '12758', '13643', '12703', '12647', '1705', '902', '12755', '13881', '12729', '4347', '13456', '13664', '13642', '13890', '13646', '13124', '13637', '13214', '12667', '12696', '508', '1966', '1355', '13800', '4349', '1703', '13862', '512', '842', '12757', '1627', '314', '1583', '13677', '1973', '4485', '1708', '4339', '526', '1668', '13459', '12892', '4344', '13668', '13829', '13882', '4354', '4376', '1637', '4363', '1664', '4508', '1881', '1735', '13769', '13654', '1699', '12899', '4330', '13543', '1969', '13182', '1937', '4334', '13587', '12783', '1891', '12871', '12910', '13590', '13655', '1681', '12204', '13553', '13500', '12693', '844', '1690', '1947', '13409', '13563', '12730', '332', '1922', '837', '843', '12767', '13892', '13379', '13640', '1693', '4389', '13523', '12843', '12754', '12912', '12752', '1898', '13504', '13506', '13641', '1970', '4360', '4455', '1655', '12712', '12739', '13673', '1734', '13700', '1942', '13662', '1945', '337', '13803', '4383', '13883', '3006', '315', '13791', '13792', '13093', '13266', '13097', '345', '13174', '13388', '12766', '12881', '1661', '1582', '1684', '13524', '542', '12785', '4331', '1577', '307', '4342', '1950', '12930', '13899', '12756', '1888', '13666', '841', '13451', '12694', '12636', '1667', '13486', '13558', '12666', '12768', '12908', '12845', '13391', '13875', '12705', '742', '13128', '848', '13176', '4350', '1459', '13671', '12710', '543', '1890', '13583', '12699', '1939', '13044', '12623', '1958', '13631', '1975', '1786', '13058', '1886', '4341', '13914', '1873', '13521', '13407', '13675', '13548', '13636', '531', '13262', '13834', '4340', '1722', '12634', '1730', '13576', '13196', '4356', '13783', '1949', '1872', '1642', '4332', '1974', '317', '507', '12787', '13897', '13610', '12849', '966', '309', '1726', '13378', '13638', '13804', '1446', '12203', '1658', '13537', '1934', '13492', '13431', '1354', '12886', '13652', '845', '13632', '1460', '13733', '12607', '12884', '1529', '13528', '516', '1944', '13403', '13744', '13907', '330', '1972', '13674', '4358', '13489', '839', '13401', '13505', '13510', '13405', '12777', '1962', '517', '1580', '12751', '13201', '1578', '1954', '13659', '13742', '4362', '1742', '12857', '506', '321', '13639', '4375', '12606', '13926', '13598', '12929', '12605', '4335', '12879', '840', '961', '13692', '13063', '13808', '13175', '522', '1967', '13423', '340', '12877', '13200', '1882', '13601', '13709', '13645', '12697', '847', '13660', '13653', '1656', '13609', '13634', '1579', '13611', '13395', '1720', '13871', '834', '1738', '1965', '13680', '13740', '12624', '12721', '13600', '13046', '13678', '13100', '521', '13729', '547', '12618', '13390', '13568', '13513', '4499', '12706', '12742', '4345', '13511', '1959', '12903', '1636', '13381', '13564', '1941', '13819', '4509', '12726', '12865', '4493', '13512', '1533', '13463', '12759', '13924', '1936', '13816', '1876', '1700', '1687', '12199', '1921', '13591', '13421', '13499', '1711', '13630', '13818', '1979', '4378', '1878', '505', '13529', '509', '13053', '1889', '1952', '305', '4355', '1731', '13629', '13633', '13806', '13759', '1879', '327', '836', '13893', '12689', '1671', '12665', '13039', '12745', '1880', '13635', '1932', '504', '12701', '13487', '1737', '13507', '13494', '318', '1631', '13328', '13538', '523', '846', '12708', '12683', '13625', '13620', '1977', '13572', '964', '4498', '13502', '13790', '1714', '13452', '4374', '12611', '4495', '13877', '326', '13584', '1877', '13663'], 0.8784611846614416)]\n"
          ],
          "name": "stdout"
        }
      ]
    },
    {
      "cell_type": "code",
      "metadata": {
        "colab": {
          "base_uri": "https://localhost:8080/"
        },
        "id": "PviHBnLfrLmi",
        "outputId": "e36aa677-d2e7-4e02-a32a-a797636eb6bb"
      },
      "source": [
        "page_rank_iter =  3\r\n",
        "for i in range(page_rank_iter):\r\n",
        "  rdd2 = rdd.flatMap(lambda X: func(X[1], X[2]))\r\n",
        "  ranks = rdd2.reduceByKey(lambda x,y: x+y).mapValues(lambda rank: rank*0.85 + 0.15)\r\n",
        "  rdd_joined = rdd.join(ranks)\r\n",
        "  rdd = rdd_joined.map(lambda x:(x[0], x[1][0], x[1][1]))\r\n",
        "  rdd.cache()\r\n",
        "df = spark.createDataFrame(rdd)\r\n",
        "df.show()"
      ],
      "execution_count": null,
      "outputs": [
        {
          "output_type": "stream",
          "text": [
            "+-----+--------------------+-------------------+\n",
            "|   _1|                  _2|                 _3|\n",
            "+-----+--------------------+-------------------+\n",
            "|  966|[1877, 12612, 173...|0.34553127580255966|\n",
            "| 4335|[12612, 13739, 43...| 0.9507292401015844|\n",
            "|13589|[1713, 12612, 194...| 0.5559424788024567|\n",
            "| 1664|[13614, 12639, 13...| 2.0276553752078073|\n",
            "|13548|[13614, 12639, 13...| 2.0040598713209676|\n",
            "| 1674|[12612, 13614, 13...| 0.6071238921847965|\n",
            "|13544|[12861, 12612, 18...| 0.7869819301401518|\n",
            "| 1355|[13663, 13614, 13...|  1.249984522617361|\n",
            "|13616|[12861, 12612, 13...| 0.8463455415360662|\n",
            "|13685|[12612, 4320, 137...| 0.5714924431803857|\n",
            "| 1694|[12612, 13739, 13...| 0.8456709461538757|\n",
            "| 1631|[12861, 12612, 13...| 0.8554481001108908|\n",
            "|12766|[13663, 13706, 13...| 1.9345771964083451|\n",
            "|13049|[1713, 12612, 135...|0.37869392995964135|\n",
            "|13738|[13706, 12612, 43...|  0.719832748446618|\n",
            "|  337|[1877, 12612, 171...| 0.9684651013261135|\n",
            "|12688|[12612, 13614, 29...| 0.6307629599464888|\n",
            "| 1879|[13614, 1574, 126...|  2.054872581886062|\n",
            "|13086|[13706, 13663, 13...| 1.3387987531199967|\n",
            "| 1791|[12612, 13614, 13...| 0.7754746421362585|\n",
            "+-----+--------------------+-------------------+\n",
            "only showing top 20 rows\n",
            "\n"
          ],
          "name": "stdout"
        }
      ]
    },
    {
      "cell_type": "code",
      "metadata": {
        "colab": {
          "base_uri": "https://localhost:8080/"
        },
        "id": "L5cgzeWvxJg0",
        "outputId": "1c507217-3b98-4d17-c916-448dacf03c1d"
      },
      "source": [
        "from pyspark.sql.functions import max\r\n",
        "\r\n",
        "# m = df.agg({\"_3\": \"max\"}).collect()[0]\r\n",
        "m  = 2.681113777335102\r\n",
        "# df.withColumn(\"Page_Rank\", lit(col('_3')/m))\r\n",
        "df.sort(col(\"_3\").desc()).withColumn(\"Page_Rank\", lit(col('_3')/m)).show()"
      ],
      "execution_count": null,
      "outputs": [
        {
          "output_type": "stream",
          "text": [
            "+-----+--------------------+------------------+------------------+\n",
            "|   _1|                  _2|                _3|         Page_Rank|\n",
            "+-----+--------------------+------------------+------------------+\n",
            "|13624|[13614, 12639, 13...| 2.681113777335102|               1.0|\n",
            "|13664|[13614, 12639, 13...|2.6236944728703415|0.9785837867269354|\n",
            "|13631|[13614, 12639, 13...|  2.60887662542025|0.9730570360252848|\n",
            "|13642|[13614, 1574, 126...| 2.558862684102581|0.9544028700810928|\n",
            "|13630|[13614, 13248, 12...| 2.537962192913499|0.9466074190391544|\n",
            "|12612|[13614, 12639, 13...|2.5067211702366077|0.9349551635694356|\n",
            "|13668|[13614, 13248, 12...| 2.477646607416091|0.9241109528289966|\n",
            "|12607|[13614, 1574, 126...|2.4642455216240733|0.9191126249306043|\n",
            "|12611|[13614, 1574, 126...|2.4544191811173857|0.9154476031065568|\n",
            "|13643|[13614, 12639, 13...|2.4528327085241535|0.9148558816336959|\n",
            "|13663|[13614, 1574, 126...|2.4467659279101204|0.9125930979110062|\n",
            "|12886|[13614, 12639, 13...|2.4424170534540126|0.9109710576630797|\n",
            "|13625|[13614, 1574, 126...|2.4367712099879197|0.9088652747926099|\n",
            "|13666|[13614, 12639, 13...| 2.435720786060031|0.9084734883877328|\n",
            "|13646|[13614, 1574, 132...|2.4212269621478804|0.9030675917657114|\n",
            "| 1877|[13614, 12639, 13...|2.4180787712109697|0.9018933816432153|\n",
            "|13655|[13614, 12639, 13...| 2.412278963218236|0.8997301731879224|\n",
            "|13637|[13614, 12639, 13...| 2.402957077856451|0.8962533027020116|\n",
            "|13645|[13614, 1574, 126...| 2.401770381888718|0.8958106896440486|\n",
            "|13659|[13614, 1574, 126...| 2.398517699759904|0.8945975064675976|\n",
            "+-----+--------------------+------------------+------------------+\n",
            "only showing top 20 rows\n",
            "\n"
          ],
          "name": "stdout"
        }
      ]
    },
    {
      "cell_type": "code",
      "metadata": {
        "colab": {
          "base_uri": "https://localhost:8080/"
        },
        "id": "fJ4NJM3T83Tn",
        "outputId": "e531147b-53bc-4be7-88a4-3756192df471"
      },
      "source": [
        "print(m)\r\n"
      ],
      "execution_count": null,
      "outputs": [
        {
          "output_type": "stream",
          "text": [
            "Row(max(_3)=2.681113777335102)\n"
          ],
          "name": "stdout"
        }
      ]
    }
  ]
}